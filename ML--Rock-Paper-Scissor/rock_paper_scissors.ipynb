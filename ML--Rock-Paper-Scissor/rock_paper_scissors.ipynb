{
  "nbformat": 4,
  "nbformat_minor": 0,
  "metadata": {
    "colab": {
      "name": "rock-paper-scissors.ipynb",
      "provenance": [],
      "collapsed_sections": []
    },
    "kernelspec": {
      "name": "python3",
      "display_name": "Python 3"
    },
    "language_info": {
      "name": "python"
    },
    "accelerator": "GPU",
    "gpuClass": "standard"
  },
  "cells": [
    {
      "cell_type": "code",
      "source": [
        "!wget --no-check-certificate https://storage.googleapis.com/laurencemoroney-blog.appspot.com/rps.zip -O /tmp/rps.zip\n",
        "!unzip -d data/ /tmp/rps.zip "
      ],
      "metadata": {
        "id": "Jgpd2tsVNbGS"
      },
      "execution_count": null,
      "outputs": []
    },
    {
      "cell_type": "code",
      "source": [
        "import os\n",
        "import shutil\n",
        "import tensorflow as tf\n",
        "\n",
        "from sklearn.model_selection import train_test_split \n",
        "from tensorflow.keras.preprocessing.image import ImageDataGenerator"
      ],
      "metadata": {
        "id": "JPwCaFT3Nm_S"
      },
      "execution_count": 2,
      "outputs": []
    },
    {
      "cell_type": "code",
      "source": [
        "rock_train, rock_test = train_test_split(os.listdir(\"/content/data/rps/rock\"), \n",
        "                                         test_size = 0.2, random_state = 123)\n",
        "paper_train, paper_test = train_test_split(os.listdir(\"/content/data/rps/paper\"), \n",
        "                                           test_size = 0.2, random_state = 123)\n",
        "scissors_train, scissors_test = train_test_split(os.listdir(\"/content/data/rps/scissors\"), \n",
        "                                                 test_size = 0.2, random_state = 123)"
      ],
      "metadata": {
        "id": "_0MuonvXFnJQ"
      },
      "execution_count": 3,
      "outputs": []
    },
    {
      "cell_type": "code",
      "source": [
        "def move_images(src_folder, dst_folder, filenames):\n",
        "    for file in filenames:\n",
        "        src = os.path.join(src_folder, file)\n",
        "        dst = os.path.join(dst_folder, file)\n",
        "        if not os.path.exists(dst): shutil.move(src, dst)\n",
        "\n",
        "# Create directories for training and test data\n",
        "if not os.path.exists(\"/content/data/train\"):\n",
        "    os.mkdir(\"/content/data/train\")\n",
        "    os.mkdir(\"/content/data/train/rock\")\n",
        "    os.mkdir(\"/content/data/train/paper\")\n",
        "    os.mkdir(\"/content/data/train/scissors\")\n",
        "\n",
        "if not os.path.exists(\"/content/data/test\"):\n",
        "    os.mkdir(\"/content/data/test\")\n",
        "    os.mkdir(\"/content/data/test/rock\")\n",
        "    os.mkdir(\"/content/data/test/paper\")\n",
        "    os.mkdir(\"/content/data/test/scissors\")\n",
        "\n",
        "# Move images then delete source folders\n",
        "if os.path.exists(\"/content/data/rps\"):\n",
        "    move_images(\"/content/data/rps/rock\", \"/content/data/train/rock\", rock_train)\n",
        "    move_images(\"/content/data/rps/paper\", \"/content/data/train/paper\", paper_train)\n",
        "    move_images(\"/content/data/rps/scissors\", \"/content/data/train/scissors\", scissors_train)\n",
        "    move_images(\"/content/data/rps/rock\", \"/content/data/test/rock\", rock_test)\n",
        "    move_images(\"/content/data/rps/paper\", \"/content/data/test/paper\", paper_test)\n",
        "    move_images(\"/content/data/rps/scissors\", \"/content/data/test/scissors\", scissors_test)\n",
        "\n",
        "    for folder in os.listdir(\"/content/data/rps\"):\n",
        "        os.removedirs(os.path.join(\"/content/data/rps\", folder))"
      ],
      "metadata": {
        "id": "l4sXTAd7CfSX"
      },
      "execution_count": 4,
      "outputs": []
    },
    {
      "cell_type": "code",
      "source": [
        "train_datagen = ImageDataGenerator(\n",
        "    rescale = 1./255,\n",
        "    rotation_range = 20,\n",
        "    horizontal_flip = True,\n",
        "    shear_range = 0.35,\n",
        "    fill_mode = 'nearest',\n",
        ")\n",
        "\n",
        "val_datagen = ImageDataGenerator(rescale = 1./225)"
      ],
      "metadata": {
        "id": "aMnaSbRNEo_B"
      },
      "execution_count": 5,
      "outputs": []
    },
    {
      "cell_type": "code",
      "source": [
        "train_generator = train_datagen.flow_from_directory(\n",
        "    \"/content/data/train\",\n",
        "    target_size=(150,150),\n",
        "    batch_size= 32,\n",
        "    class_mode='categorical'\n",
        ")\n",
        "\n",
        "val_generator = val_datagen.flow_from_directory(\n",
        "    \"/content/data/test\",\n",
        "    target_size = (150,150),\n",
        "    batch_size = 32,\n",
        "    class_mode = 'categorical'\n",
        ")"
      ],
      "metadata": {
        "colab": {
          "base_uri": "https://localhost:8080/"
        },
        "id": "drLZbTqGGPBK",
        "outputId": "39be260f-aafa-450d-de4f-612ee0d1e16c"
      },
      "execution_count": 6,
      "outputs": [
        {
          "output_type": "stream",
          "name": "stdout",
          "text": [
            "Found 2016 images belonging to 3 classes.\n",
            "Found 504 images belonging to 3 classes.\n"
          ]
        }
      ]
    },
    {
      "cell_type": "code",
      "source": [
        "# Define CNN model\n",
        "model = tf.keras.models.Sequential([\n",
        "    tf.keras.layers.Conv2D(32, (3, 3), activation = \"relu\", input_shape = (150, 150, 3)),\n",
        "    tf.keras.layers.MaxPool2D(2, 2),\n",
        "    tf.keras.layers.Conv2D(64, (3, 3), activation = \"relu\"),\n",
        "    tf.keras.layers.MaxPool2D(2, 2),\n",
        "    tf.keras.layers.Conv2D(128, (3, 3), activation = \"relu\"),\n",
        "    tf.keras.layers.MaxPool2D(2, 2),\n",
        "    tf.keras.layers.Flatten(),\n",
        "    tf.keras.layers.Dense(512, activation = \"relu\"),\n",
        "    tf.keras.layers.Dropout(0.4),\n",
        "    tf.keras.layers.Dense(3, activation = \"softmax\")   \n",
        "])\n",
        "\n",
        "model.summary()"
      ],
      "metadata": {
        "colab": {
          "base_uri": "https://localhost:8080/"
        },
        "id": "smDGQ7fEKcnQ",
        "outputId": "32bb4284-9359-4a70-e2fd-605def5c986d"
      },
      "execution_count": 7,
      "outputs": [
        {
          "output_type": "stream",
          "name": "stdout",
          "text": [
            "Model: \"sequential\"\n",
            "_________________________________________________________________\n",
            " Layer (type)                Output Shape              Param #   \n",
            "=================================================================\n",
            " conv2d (Conv2D)             (None, 148, 148, 32)      896       \n",
            "                                                                 \n",
            " max_pooling2d (MaxPooling2D  (None, 74, 74, 32)       0         \n",
            " )                                                               \n",
            "                                                                 \n",
            " conv2d_1 (Conv2D)           (None, 72, 72, 64)        18496     \n",
            "                                                                 \n",
            " max_pooling2d_1 (MaxPooling  (None, 36, 36, 64)       0         \n",
            " 2D)                                                             \n",
            "                                                                 \n",
            " conv2d_2 (Conv2D)           (None, 34, 34, 128)       73856     \n",
            "                                                                 \n",
            " max_pooling2d_2 (MaxPooling  (None, 17, 17, 128)      0         \n",
            " 2D)                                                             \n",
            "                                                                 \n",
            " flatten (Flatten)           (None, 36992)             0         \n",
            "                                                                 \n",
            " dense (Dense)               (None, 512)               18940416  \n",
            "                                                                 \n",
            " dropout (Dropout)           (None, 512)               0         \n",
            "                                                                 \n",
            " dense_1 (Dense)             (None, 3)                 1539      \n",
            "                                                                 \n",
            "=================================================================\n",
            "Total params: 19,035,203\n",
            "Trainable params: 19,035,203\n",
            "Non-trainable params: 0\n",
            "_________________________________________________________________\n"
          ]
        }
      ]
    },
    {
      "cell_type": "code",
      "source": [
        "# configure model and callbacks for training \n",
        "model.compile(\n",
        "    optimizer=tf.keras.optimizers.Adam(learning_rate=5e-4),\n",
        "    loss=\"categorical_crossentropy\",\n",
        "    metrics = ['accuracy']\n",
        ")\n",
        "\n",
        "class myCallback(tf.keras.callbacks.Callback):\n",
        "    def on_epoch_end(self, epoch, logs={}):\n",
        "        if(logs.get('accuracy') > 0.97):\n",
        "            self.model.stop_training = True\n",
        "\n",
        "callbacks = [\n",
        "    myCallback(),\n",
        "    tf.keras.callbacks.EarlyStopping(patience=10, restore_best_weights=True),\n",
        "    tf.keras.callbacks.ReduceLROnPlateau(monitor='val_loss', patience=5)\n",
        "]"
      ],
      "metadata": {
        "id": "yd0VBpXvKg98"
      },
      "execution_count": 8,
      "outputs": []
    },
    {
      "cell_type": "code",
      "source": [
        "# start training with callbacks\n",
        "model.fit(\n",
        "    train_generator, \n",
        "    validation_data = val_generator,\n",
        "    epochs=50, \n",
        "    steps_per_epoch = 63,\n",
        "    validation_steps = 16,\n",
        "    verbose = 1, \n",
        "    callbacks = callbacks\n",
        ")"
      ],
      "metadata": {
        "colab": {
          "base_uri": "https://localhost:8080/"
        },
        "id": "I0cvXNMZK1re",
        "outputId": "9c54c51e-0d57-4f8f-81a8-f2d6ee985ed1"
      },
      "execution_count": 9,
      "outputs": [
        {
          "output_type": "stream",
          "name": "stdout",
          "text": [
            "Epoch 1/50\n",
            "63/63 [==============================] - 31s 280ms/step - loss: 0.7694 - accuracy: 0.6746 - val_loss: 0.1480 - val_accuracy: 0.9504 - lr: 5.0000e-04\n",
            "Epoch 2/50\n",
            "63/63 [==============================] - 17s 266ms/step - loss: 0.1485 - accuracy: 0.9544 - val_loss: 0.0584 - val_accuracy: 0.9861 - lr: 5.0000e-04\n",
            "Epoch 3/50\n",
            "63/63 [==============================] - 17s 262ms/step - loss: 0.1033 - accuracy: 0.9683 - val_loss: 0.0458 - val_accuracy: 0.9881 - lr: 5.0000e-04\n",
            "Epoch 4/50\n",
            "63/63 [==============================] - 18s 287ms/step - loss: 0.0659 - accuracy: 0.9851 - val_loss: 0.0277 - val_accuracy: 0.9921 - lr: 5.0000e-04\n"
          ]
        },
        {
          "output_type": "execute_result",
          "data": {
            "text/plain": [
              "<keras.callbacks.History at 0x7fc9cec99f50>"
            ]
          },
          "metadata": {},
          "execution_count": 9
        }
      ]
    },
    {
      "cell_type": "code",
      "source": [
        ""
      ],
      "metadata": {
        "id": "37CK8GNYOquf"
      },
      "execution_count": 9,
      "outputs": []
    }
  ]
}