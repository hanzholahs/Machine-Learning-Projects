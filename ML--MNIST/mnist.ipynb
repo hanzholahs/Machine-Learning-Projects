{
  "nbformat": 4,
  "nbformat_minor": 0,
  "metadata": {
    "colab": {
      "name": "mnist.ipynb",
      "provenance": [],
      "collapsed_sections": []
    },
    "kernelspec": {
      "name": "python3",
      "display_name": "Python 3"
    },
    "language_info": {
      "name": "python"
    },
    "accelerator": "GPU",
    "gpuClass": "standard"
  },
  "cells": [
    {
      "cell_type": "code",
      "source": [
        "# import libraries\n",
        "import numpy as np\n",
        "import matplotlib.pyplot as plt\n",
        "import matplotlib.image as mpimg\n",
        "import tensorflow as tf"
      ],
      "metadata": {
        "id": "Jgpd2tsVNbGS"
      },
      "execution_count": 1,
      "outputs": []
    },
    {
      "cell_type": "code",
      "source": [
        "# impot data\n",
        "mnist = tf.keras.datasets.mnist\n",
        "(X_train, y_train), (X_test, y_test) = mnist.load_data()\n",
        "\n",
        "# Normalise image data\n",
        "X_train, X_test = X_train / 255., X_test / 255.\n",
        "\n",
        "# Add dimension to image data\n",
        "X_train = X_train.reshape(60000, 28, 28, 1)\n",
        "X_test  = X_test.reshape(10000, 28, 28, 1)\n",
        "\n",
        "print(f\"Train\\t: {X_train.shape}\")\n",
        "print(f\"Test\\t: {X_test.shape}\")"
      ],
      "metadata": {
        "id": "JPwCaFT3Nm_S",
        "outputId": "fe523ea9-d418-4585-f8d0-bff53e247f9f",
        "colab": {
          "base_uri": "https://localhost:8080/"
        }
      },
      "execution_count": 2,
      "outputs": [
        {
          "output_type": "stream",
          "name": "stdout",
          "text": [
            "Train\t: (60000, 28, 28, 1)\n",
            "Test\t: (10000, 28, 28, 1)\n"
          ]
        }
      ]
    },
    {
      "cell_type": "code",
      "source": [
        "# check train images\n",
        "nrows, ncols = 4, 6\n",
        "fig = plt.figure(figsize=(ncols*2, nrows*2))\n",
        "indices = np.random.randint(0, X_train.shape[0], nrows*ncols)\n",
        "\n",
        "for i, index in enumerate(indices):\n",
        "  sp = plt.subplot(nrows, ncols, i+1)\n",
        "  sp.axis(\"off\")\n",
        "  sp.set_title(f\"Label: {y_train[index]}\")\n",
        "  plt.imshow(X_train[index].reshape(28, 28))"
      ],
      "metadata": {
        "id": "Oe-U0XbjNyEk",
        "outputId": "f9161b21-f183-41ec-cad0-93ec68f24d80",
        "colab": {
          "base_uri": "https://localhost:8080/",
          "height": 482
        }
      },
      "execution_count": 3,
      "outputs": [
        {
          "output_type": "display_data",
          "data": {
            "text/plain": [
              "<Figure size 864x576 with 24 Axes>"
            ],
            "image/png": "[encoded data removed]"
          },
          "metadata": {
            "needs_background": "light"
          }
        }
      ]
    },
    {
      "cell_type": "code",
      "source": [
        "# Define CNN model\n",
        "model = tf.keras.models.Sequential([\n",
        "    tf.keras.layers.Conv2D(64, (3, 3), activation = \"relu\", input_shape = (28, 28, 1)),\n",
        "    tf.keras.layers.MaxPool2D(2, 2),\n",
        "    tf.keras.layers.Conv2D(216, (3, 3), activation = \"relu\"),\n",
        "    tf.keras.layers.MaxPool2D(2, 2),\n",
        "    tf.keras.layers.Flatten(),\n",
        "    tf.keras.layers.Dense(512, activation = \"relu\"),\n",
        "    tf.keras.layers.Dropout(0.4),\n",
        "    tf.keras.layers.Dense(10, activation = \"softmax\")   \n",
        "])\n",
        "\n",
        "model.summary()"
      ],
      "metadata": {
        "id": "l7vXPl2hjCGR",
        "outputId": "4118493a-f5a4-46df-b3b5-03f46f95c8c6",
        "colab": {
          "base_uri": "https://localhost:8080/"
        }
      },
      "execution_count": 4,
      "outputs": [
        {
          "output_type": "stream",
          "name": "stdout",
          "text": [
            "Model: \"sequential\"\n",
            "_________________________________________________________________\n",
            " Layer (type)                Output Shape              Param #   \n",
            "=================================================================\n",
            " conv2d (Conv2D)             (None, 26, 26, 64)        640       \n",
            "                                                                 \n",
            " max_pooling2d (MaxPooling2D  (None, 13, 13, 64)       0         \n",
            " )                                                               \n",
            "                                                                 \n",
            " conv2d_1 (Conv2D)           (None, 11, 11, 216)       124632    \n",
            "                                                                 \n",
            " max_pooling2d_1 (MaxPooling  (None, 5, 5, 216)        0         \n",
            " 2D)                                                             \n",
            "                                                                 \n",
            " flatten (Flatten)           (None, 5400)              0         \n",
            "                                                                 \n",
            " dense (Dense)               (None, 512)               2765312   \n",
            "                                                                 \n",
            " dropout (Dropout)           (None, 512)               0         \n",
            "                                                                 \n",
            " dense_1 (Dense)             (None, 10)                5130      \n",
            "                                                                 \n",
            "=================================================================\n",
            "Total params: 2,895,714\n",
            "Trainable params: 2,895,714\n",
            "Non-trainable params: 0\n",
            "_________________________________________________________________\n"
          ]
        }
      ]
    },
    {
      "cell_type": "code",
      "source": [
        "# configure model and callbacks for training \n",
        "model.compile(\n",
        "    optimizer=tf.keras.optimizers.Adam(learning_rate=5e-4),\n",
        "    loss=\"sparse_categorical_crossentropy\",\n",
        "    metrics = ['accuracy']\n",
        ")\n",
        "\n",
        "class myCallback(tf.keras.callbacks.Callback):\n",
        "    def on_epoch_end(self, epoch, logs={}):\n",
        "        if(logs.get('accuracy') > 0.97):\n",
        "            self.model.stop_training = True\n",
        "\n",
        "callbacks = [myCallback()]"
      ],
      "metadata": {
        "id": "w7YGV5j0ngPc"
      },
      "execution_count": 5,
      "outputs": []
    },
    {
      "cell_type": "code",
      "source": [
        "# start training with callbacks\n",
        "model.fit(\n",
        "    X_train, y_train, epochs=50, verbose = 1, callbacks = callbacks\n",
        ")"
      ],
      "metadata": {
        "id": "UYS1HBZYopFW",
        "outputId": "50de71d5-3e1c-4339-ab90-4baa825908d9",
        "colab": {
          "base_uri": "https://localhost:8080/"
        }
      },
      "execution_count": 6,
      "outputs": [
        {
          "output_type": "stream",
          "name": "stdout",
          "text": [
            "Epoch 1/50\n",
            "1875/1875 [==============================] - 11s 5ms/step - loss: 0.1318 - accuracy: 0.9590\n",
            "Epoch 2/50\n",
            "1875/1875 [==============================] - 8s 4ms/step - loss: 0.0459 - accuracy: 0.9861\n"
          ]
        },
        {
          "output_type": "execute_result",
          "data": {
            "text/plain": [
              "<keras.callbacks.History at 0x7faab40bec90>"
            ]
          },
          "metadata": {},
          "execution_count": 6
        }
      ]
    },
    {
      "cell_type": "code",
      "source": [
        "# Evaluate model performance\n",
        "model.evaluate(X_test, y_test)"
      ],
      "metadata": {
        "id": "zgu72dZGpKM4",
        "outputId": "87be4656-4e92-44bb-d7bf-42d7e1a18839",
        "colab": {
          "base_uri": "https://localhost:8080/"
        }
      },
      "execution_count": 7,
      "outputs": [
        {
          "output_type": "stream",
          "name": "stdout",
          "text": [
            "313/313 [==============================] - 1s 3ms/step - loss: 0.0293 - accuracy: 0.9891\n"
          ]
        },
        {
          "output_type": "execute_result",
          "data": {
            "text/plain": [
              "[0.02933693490922451, 0.9890999794006348]"
            ]
          },
          "metadata": {},
          "execution_count": 7
        }
      ]
    }
  ]
}