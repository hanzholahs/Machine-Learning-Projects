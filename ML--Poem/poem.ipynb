{
  "nbformat": 4,
  "nbformat_minor": 0,
  "metadata": {
    "colab": {
      "name": "poem.ipynb",
      "provenance": [],
      "collapsed_sections": []
    },
    "kernelspec": {
      "name": "python3",
      "display_name": "Python 3"
    },
    "language_info": {
      "name": "python"
    },
    "accelerator": "GPU",
    "gpuClass": "standard"
  },
  "cells": [
    {
      "cell_type": "code",
      "source": [
        "import tensorflow as tf\n",
        "import numpy as np\n",
        "\n",
        "from tensorflow.keras.preprocessing.sequence import pad_sequences\n",
        "from tensorflow.keras.preprocessing.text import Tokenizer\n",
        "from tensorflow.keras.models import Sequential"
      ],
      "metadata": {
        "id": "Dmdtj1FP92Rr"
      },
      "execution_count": 1,
      "outputs": []
    },
    {
      "cell_type": "code",
      "source": [
        "from google.colab import drive\n",
        "drive.mount('/content/drive')"
      ],
      "metadata": {
        "id": "R_LO-BAkMoBL",
        "colab": {
          "base_uri": "https://localhost:8080/"
        },
        "outputId": "3ebb7339-70f8-476a-b9ab-464195e660e0"
      },
      "execution_count": 2,
      "outputs": [
        {
          "output_type": "stream",
          "name": "stdout",
          "text": [
            "Mounted at /content/drive\n"
          ]
        }
      ]
    },
    {
      "cell_type": "code",
      "source": [
        "!mkdir ~/.kaggle\n",
        "!cp /content/drive/MyDrive/.credentials/kaggle.json ~/.kaggle\n",
        "!chmod 600 ~/.kaggle/kaggle.json\n",
        "!kaggle datasets download harshalgadhe/poem-generation\n",
        "!unzip -d data/ poem-generation.zip "
      ],
      "metadata": {
        "id": "Jgpd2tsVNbGS",
        "colab": {
          "base_uri": "https://localhost:8080/"
        },
        "outputId": "fc1e1650-9b18-422b-dc61-6aff540bef33"
      },
      "execution_count": 3,
      "outputs": [
        {
          "output_type": "stream",
          "name": "stdout",
          "text": [
            "Downloading poem-generation.zip to /content\n",
            "\r  0% 0.00/39.9k [00:00<?, ?B/s]\n",
            "\r100% 39.9k/39.9k [00:00<00:00, 39.6MB/s]\n",
            "Archive:  poem-generation.zip\n",
            "  inflating: data/poem.txt           \n"
          ]
        }
      ]
    },
    {
      "cell_type": "code",
      "source": [
        "with open(\"/content/data/poem.txt\", \"r\") as f:\n",
        "    lines = f.read().split(\"\\n\")"
      ],
      "metadata": {
        "id": "JPwCaFT3Nm_S"
      },
      "execution_count": 4,
      "outputs": []
    },
    {
      "cell_type": "code",
      "source": [
        "tokenizer = Tokenizer(oov_token = \"<<OOV>>\")\n",
        "tokenizer.fit_on_texts(lines)\n",
        "\n",
        "total_words = len(tokenizer.word_index)"
      ],
      "metadata": {
        "id": "Oe-U0XbjNyEk"
      },
      "execution_count": 5,
      "outputs": []
    },
    {
      "cell_type": "code",
      "source": [
        "input_sequences = []\n",
        "for line in lines:\n",
        "    token_list = tokenizer.texts_to_sequences([line])[0]\n",
        "    for i in range(1, len(token_list)):\n",
        "        input_sequences.append(token_list[:i+1])\n",
        "\n",
        "padded_input_sequences = np.array(pad_sequences(input_sequences))\n",
        "max_len = padded_input_sequences.shape[1]"
      ],
      "metadata": {
        "id": "LiINnZ8F98hL"
      },
      "execution_count": 6,
      "outputs": []
    },
    {
      "cell_type": "code",
      "source": [
        "X_train, y_train = padded_input_sequences[:, :-1], padded_input_sequences[:, -1]\n",
        "y_train = tf.keras.utils.to_categorical(y_train)"
      ],
      "metadata": {
        "id": "ySezwwZV-QPu"
      },
      "execution_count": 7,
      "outputs": []
    },
    {
      "cell_type": "code",
      "source": [
        "model = tf.keras.models.Sequential([\n",
        "    tf.keras.layers.Embedding(total_words, 128, input_length = max_len - 1),\n",
        "    tf.keras.layers.Bidirectional(tf.keras.layers.LSTM(512)),\n",
        "    tf.keras.layers.Dense(total_words / 2, activation='relu'),\n",
        "    tf.keras.layers.Dropout(0.4),\n",
        "    tf.keras.layers.Dense(total_words + 1, activation='softmax')\n",
        "])\n",
        "\n",
        "model.summary()"
      ],
      "metadata": {
        "colab": {
          "base_uri": "https://localhost:8080/"
        },
        "id": "dt3KCeub-uxj",
        "outputId": "3a2c6673-600a-4070-b9d3-d2d1c9782290"
      },
      "execution_count": 8,
      "outputs": [
        {
          "output_type": "stream",
          "name": "stdout",
          "text": [
            "Model: \"sequential\"\n",
            "_________________________________________________________________\n",
            " Layer (type)                Output Shape              Param #   \n",
            "=================================================================\n",
            " embedding (Embedding)       (None, 15, 128)           487424    \n",
            "                                                                 \n",
            " bidirectional (Bidirectiona  (None, 1024)             2625536   \n",
            " l)                                                              \n",
            "                                                                 \n",
            " dense (Dense)               (None, 1904)              1951600   \n",
            "                                                                 \n",
            " dropout (Dropout)           (None, 1904)              0         \n",
            "                                                                 \n",
            " dense_1 (Dense)             (None, 3809)              7256145   \n",
            "                                                                 \n",
            "=================================================================\n",
            "Total params: 12,320,705\n",
            "Trainable params: 12,320,705\n",
            "Non-trainable params: 0\n",
            "_________________________________________________________________\n"
          ]
        }
      ]
    },
    {
      "cell_type": "code",
      "source": [
        "model.compile(\n",
        "    optimizer=tf.keras.optimizers.Adam(learning_rate=5e-4),\n",
        "    loss=\"categorical_crossentropy\",\n",
        "    metrics = ['accuracy']\n",
        ")\n",
        "\n",
        "class MyCallback(tf.keras.callbacks.Callback):\n",
        "    def on_epoch_end(self, epoch, logs={}):\n",
        "        if(logs.get('accuracy') > 0.975):\n",
        "            self.model.stop_training = True\n",
        "\n",
        "callbacks = [MyCallback()]"
      ],
      "metadata": {
        "id": "WoRoYE0Y_M8Q"
      },
      "execution_count": 9,
      "outputs": []
    },
    {
      "cell_type": "code",
      "source": [
        "model.fit(X_train, y_train, epochs=50, verbose=1, callbacks = callbacks)"
      ],
      "metadata": {
        "colab": {
          "base_uri": "https://localhost:8080/"
        },
        "id": "Hpp_p8lF_YeJ",
        "outputId": "3404287e-62da-4315-af99-4a33e4c65df0"
      },
      "execution_count": 10,
      "outputs": [
        {
          "output_type": "stream",
          "name": "stdout",
          "text": [
            "Epoch 1/50\n",
            "510/510 [==============================] - 14s 11ms/step - loss: 6.8902 - accuracy: 0.0615\n",
            "Epoch 2/50\n",
            "510/510 [==============================] - 5s 11ms/step - loss: 6.5133 - accuracy: 0.0635\n",
            "Epoch 3/50\n",
            "510/510 [==============================] - 8s 15ms/step - loss: 6.2556 - accuracy: 0.0764\n",
            "Epoch 4/50\n",
            "510/510 [==============================] - 6s 11ms/step - loss: 5.9825 - accuracy: 0.0899\n",
            "Epoch 5/50\n",
            "510/510 [==============================] - 6s 11ms/step - loss: 5.6947 - accuracy: 0.1058\n",
            "Epoch 6/50\n",
            "510/510 [==============================] - 6s 11ms/step - loss: 5.4151 - accuracy: 0.1175\n",
            "Epoch 7/50\n",
            "510/510 [==============================] - 6s 11ms/step - loss: 5.1384 - accuracy: 0.1341\n",
            "Epoch 8/50\n",
            "510/510 [==============================] - 6s 11ms/step - loss: 4.8656 - accuracy: 0.1519\n",
            "Epoch 9/50\n",
            "510/510 [==============================] - 6s 11ms/step - loss: 4.5880 - accuracy: 0.1735\n",
            "Epoch 10/50\n",
            "510/510 [==============================] - 6s 11ms/step - loss: 4.3026 - accuracy: 0.1953\n",
            "Epoch 11/50\n",
            "510/510 [==============================] - 6s 11ms/step - loss: 4.0135 - accuracy: 0.2218\n",
            "Epoch 12/50\n",
            "510/510 [==============================] - 6s 11ms/step - loss: 3.7204 - accuracy: 0.2547\n",
            "Epoch 13/50\n",
            "510/510 [==============================] - 6s 11ms/step - loss: 3.4121 - accuracy: 0.2887\n",
            "Epoch 14/50\n",
            "510/510 [==============================] - 6s 11ms/step - loss: 3.0965 - accuracy: 0.3356\n",
            "Epoch 15/50\n",
            "510/510 [==============================] - 6s 11ms/step - loss: 2.7722 - accuracy: 0.3838\n",
            "Epoch 16/50\n",
            "510/510 [==============================] - 6s 12ms/step - loss: 2.4641 - accuracy: 0.4388\n",
            "Epoch 17/50\n",
            "510/510 [==============================] - 6s 11ms/step - loss: 2.1833 - accuracy: 0.4951\n",
            "Epoch 18/50\n",
            "510/510 [==============================] - 6s 11ms/step - loss: 1.9161 - accuracy: 0.5528\n",
            "Epoch 19/50\n",
            "510/510 [==============================] - 6s 11ms/step - loss: 1.7355 - accuracy: 0.5878\n",
            "Epoch 20/50\n",
            "510/510 [==============================] - 6s 11ms/step - loss: 1.5372 - accuracy: 0.6322\n",
            "Epoch 21/50\n",
            "510/510 [==============================] - 6s 11ms/step - loss: 1.4154 - accuracy: 0.6616\n",
            "Epoch 22/50\n",
            "510/510 [==============================] - 6s 11ms/step - loss: 1.2859 - accuracy: 0.6919\n",
            "Epoch 23/50\n",
            "510/510 [==============================] - 6s 11ms/step - loss: 1.1834 - accuracy: 0.7126\n",
            "Epoch 24/50\n",
            "510/510 [==============================] - 6s 11ms/step - loss: 1.1097 - accuracy: 0.7291\n",
            "Epoch 25/50\n",
            "510/510 [==============================] - 6s 11ms/step - loss: 1.0363 - accuracy: 0.7453\n",
            "Epoch 26/50\n",
            "510/510 [==============================] - 6s 11ms/step - loss: 0.9870 - accuracy: 0.7602\n",
            "Epoch 27/50\n",
            "510/510 [==============================] - 6s 11ms/step - loss: 0.9452 - accuracy: 0.7653\n",
            "Epoch 28/50\n",
            "510/510 [==============================] - 6s 11ms/step - loss: 0.9013 - accuracy: 0.7789\n",
            "Epoch 29/50\n",
            "510/510 [==============================] - 6s 12ms/step - loss: 0.8535 - accuracy: 0.7890\n",
            "Epoch 30/50\n",
            "510/510 [==============================] - 6s 11ms/step - loss: 0.8296 - accuracy: 0.7939\n",
            "Epoch 31/50\n",
            "510/510 [==============================] - 6s 11ms/step - loss: 0.7966 - accuracy: 0.8016\n",
            "Epoch 32/50\n",
            "510/510 [==============================] - 6s 11ms/step - loss: 0.7767 - accuracy: 0.8056\n",
            "Epoch 33/50\n",
            "510/510 [==============================] - 6s 11ms/step - loss: 0.7642 - accuracy: 0.8087\n",
            "Epoch 34/50\n",
            "510/510 [==============================] - 6s 11ms/step - loss: 0.8137 - accuracy: 0.8069\n",
            "Epoch 35/50\n",
            "510/510 [==============================] - 6s 11ms/step - loss: 0.7431 - accuracy: 0.8110\n",
            "Epoch 36/50\n",
            "510/510 [==============================] - 6s 11ms/step - loss: 0.6967 - accuracy: 0.8213\n",
            "Epoch 37/50\n",
            "510/510 [==============================] - 6s 11ms/step - loss: 0.6817 - accuracy: 0.8275\n",
            "Epoch 38/50\n",
            "510/510 [==============================] - 6s 11ms/step - loss: 0.6740 - accuracy: 0.8281\n",
            "Epoch 39/50\n",
            "510/510 [==============================] - 6s 11ms/step - loss: 0.6618 - accuracy: 0.8299\n",
            "Epoch 40/50\n",
            "510/510 [==============================] - 6s 11ms/step - loss: 0.6609 - accuracy: 0.8277\n",
            "Epoch 41/50\n",
            "510/510 [==============================] - 6s 11ms/step - loss: 0.6489 - accuracy: 0.8301\n",
            "Epoch 42/50\n",
            "510/510 [==============================] - 6s 12ms/step - loss: 0.6464 - accuracy: 0.8330\n",
            "Epoch 43/50\n",
            "510/510 [==============================] - 6s 11ms/step - loss: 0.6344 - accuracy: 0.8344\n",
            "Epoch 44/50\n",
            "510/510 [==============================] - 6s 11ms/step - loss: 0.6335 - accuracy: 0.8344\n",
            "Epoch 45/50\n",
            "510/510 [==============================] - 6s 11ms/step - loss: 0.6195 - accuracy: 0.8367\n",
            "Epoch 46/50\n",
            "510/510 [==============================] - 6s 11ms/step - loss: 0.6204 - accuracy: 0.8366\n",
            "Epoch 47/50\n",
            "510/510 [==============================] - 6s 11ms/step - loss: 0.6200 - accuracy: 0.8366\n",
            "Epoch 48/50\n",
            "510/510 [==============================] - 6s 11ms/step - loss: 0.6079 - accuracy: 0.8382\n",
            "Epoch 49/50\n",
            "510/510 [==============================] - 6s 11ms/step - loss: 0.5953 - accuracy: 0.8410\n",
            "Epoch 50/50\n",
            "510/510 [==============================] - 6s 11ms/step - loss: 0.6006 - accuracy: 0.8378\n"
          ]
        },
        {
          "output_type": "execute_result",
          "data": {
            "text/plain": [
              "<keras.callbacks.History at 0x7f6fb027d810>"
            ]
          },
          "metadata": {},
          "execution_count": 10
        }
      ]
    },
    {
      "cell_type": "code",
      "source": [
        ""
      ],
      "metadata": {
        "id": "3BYRl8eIBQNM"
      },
      "execution_count": 10,
      "outputs": []
    }
  ]
}