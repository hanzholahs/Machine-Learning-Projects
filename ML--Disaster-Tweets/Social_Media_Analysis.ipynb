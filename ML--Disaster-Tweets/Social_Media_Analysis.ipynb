{
  "nbformat": 4,
  "nbformat_minor": 0,
  "metadata": {
    "colab": {
      "name": "Social Media Analysis",
      "provenance": [],
      "collapsed_sections": []
    },
    "kernelspec": {
      "name": "python3",
      "display_name": "Python 3"
    },
    "language_info": {
      "name": "python"
    },
    "accelerator": "GPU",
    "gpuClass": "standard"
  },
  "cells": [
    {
      "cell_type": "markdown",
      "source": [
        "# Import Libraries and Settings"
      ],
      "metadata": {
        "id": "6YPoCd-QWyFd"
      }
    },
    {
      "cell_type": "code",
      "source": [
        "import os\n",
        "import sys\n",
        "import re\n",
        "import string\n",
        "import nltk\n",
        "import numpy as np\n",
        "import pandas as pd\n",
        "import tensorflow as tf\n",
        "from shutil import unpack_archive\n",
        "\n",
        "\n",
        "from sklearn.model_selection import train_test_split\n",
        "from sklearn.preprocessing import LabelEncoder\n",
        "\n",
        "# from nltk.corpus import stopwords, wordnet\n",
        "from nltk.stem import WordNetLemmatizer\n",
        "from nltk.tokenize import word_tokenize\n",
        "# from nltk.probability import FreqDist\n",
        "# from spacy.lang.en import English\n",
        "# from spacy.lang.en.stop_words import STOP_WORDS\n",
        "\n",
        "from tensorflow.keras.utils import to_categorical\n",
        "from tensorflow.keras.preprocessing.text import Tokenizer\n",
        "from tensorflow.keras.preprocessing.sequence import pad_sequences\n",
        "from tensorflow.keras.optimizers import Adam\n",
        "from tensorflow.keras.callbacks import EarlyStopping"
      ],
      "metadata": {
        "id": "rSP2ZYoXWZNZ"
      },
      "execution_count": null,
      "outputs": []
    },
    {
      "cell_type": "code",
      "source": [
        "nltk.download('stopwords')\n",
        "nltk.download('wordnet')\n",
        "nltk.download('punkt')\n",
        "nltk.download('omw-1.4')\n",
        "\n",
        "lemma = WordNetLemmatizer()"
      ],
      "metadata": {
        "colab": {
          "base_uri": "https://localhost:8080/"
        },
        "id": "Niv6drTbXwWu",
        "outputId": "3b0f0815-6686-474d-c7ff-56c901628757"
      },
      "execution_count": null,
      "outputs": [
        {
          "output_type": "stream",
          "name": "stderr",
          "text": [
            "[nltk_data] Downloading package stopwords to /root/nltk_data...\n",
            "[nltk_data]   Unzipping corpora/stopwords.zip.\n",
            "[nltk_data] Downloading package wordnet to /root/nltk_data...\n",
            "[nltk_data] Downloading package punkt to /root/nltk_data...\n",
            "[nltk_data]   Unzipping tokenizers/punkt.zip.\n",
            "[nltk_data] Downloading package omw-1.4 to /root/nltk_data...\n"
          ]
        }
      ]
    },
    {
      "cell_type": "code",
      "source": [
        "from google.colab import drive\n",
        "drive.mount('/content/drive')"
      ],
      "metadata": {
        "colab": {
          "base_uri": "https://localhost:8080/"
        },
        "id": "uC268EiJVinw",
        "outputId": "d7aa4e71-cb88-4bd5-b2b2-4eeb7d7afa91"
      },
      "execution_count": null,
      "outputs": [
        {
          "output_type": "stream",
          "name": "stdout",
          "text": [
            "Mounted at /content/drive\n"
          ]
        }
      ]
    },
    {
      "cell_type": "code",
      "source": [
        "!{sys.executable} -m pip install wget\n",
        "!{sys.executable} -m pip install shutil\n",
        "\n",
        "!wget 'https://huggingface.co/stanfordnlp/glove/resolve/main/glove.6B.zip'\n",
        "\n",
        "print('Extracting Glove6B')\n",
        "unpack_archive('glove.6B.zip')\n",
        "\n",
        "print('Remove Extra Files')\n",
        "os.remove('glove.6B.100d.txt')\n",
        "os.remove('glove.6B.200d.txt')\n",
        "os.remove('glove.6B.50d.txt')\n",
        "os.remove('glove.6B.zip')\n",
        "\n",
        "print('Process finished')"
      ],
      "metadata": {
        "colab": {
          "base_uri": "https://localhost:8080/"
        },
        "id": "hdp7ECsHUhBn",
        "outputId": "e63856ce-9340-404d-d7cf-7253260f9e00"
      },
      "execution_count": null,
      "outputs": [
        {
          "output_type": "stream",
          "name": "stdout",
          "text": [
            "Looking in indexes: https://pypi.org/simple, https://us-python.pkg.dev/colab-wheels/public/simple/\n",
            "Collecting wget\n",
            "  Downloading wget-3.2.zip (10 kB)\n",
            "Building wheels for collected packages: wget\n",
            "  Building wheel for wget (setup.py) ... \u001b[?25l\u001b[?25hdone\n",
            "  Created wheel for wget: filename=wget-3.2-py3-none-any.whl size=9675 sha256=c0a74c4f426482f3066f7ce6ce28677b2fe9461e3613ae1ce6e1ecdf94f13388\n",
            "  Stored in directory: /root/.cache/pip/wheels/a1/b6/7c/0e63e34eb06634181c63adacca38b79ff8f35c37e3c13e3c02\n",
            "Successfully built wget\n",
            "Installing collected packages: wget\n",
            "Successfully installed wget-3.2\n",
            "Looking in indexes: https://pypi.org/simple, https://us-python.pkg.dev/colab-wheels/public/simple/\n",
            "\u001b[31mERROR: Could not find a version that satisfies the requirement shutil (from versions: none)\u001b[0m\n",
            "\u001b[31mERROR: No matching distribution found for shutil\u001b[0m\n",
            "--2022-07-27 13:46:25--  https://huggingface.co/stanfordnlp/glove/resolve/main/glove.6B.zip\n",
            "Resolving huggingface.co (huggingface.co)... 52.2.34.29, 34.231.117.252, 2600:1f18:147f:e850:d57d:d46a:df34:61ee, ...\n",
            "Connecting to huggingface.co (huggingface.co)|52.2.34.29|:443... connected.\n",
            "HTTP request sent, awaiting response... 302 Found\n",
            "Location: https://cdn-lfs.huggingface.co/stanfordnlp/glove/6471382cdd837544bf3ac72497a38715e845897d265b2b424b4761832009c837?response-content-disposition=attachment%3B%20filename%3D%22glove.6B.zip%22 [following]\n",
            "--2022-07-27 13:46:26--  https://cdn-lfs.huggingface.co/stanfordnlp/glove/6471382cdd837544bf3ac72497a38715e845897d265b2b424b4761832009c837?response-content-disposition=attachment%3B%20filename%3D%22glove.6B.zip%22\n",
            "Resolving cdn-lfs.huggingface.co (cdn-lfs.huggingface.co)... 13.227.254.123, 13.227.254.33, 13.227.254.47, ...\n",
            "Connecting to cdn-lfs.huggingface.co (cdn-lfs.huggingface.co)|13.227.254.123|:443... connected.\n",
            "HTTP request sent, awaiting response... 200 OK\n",
            "Length: 862182753 (822M) [application/zip]\n",
            "Saving to: ‘glove.6B.zip’\n",
            "\n",
            "glove.6B.zip        100%[===================>] 822.24M   131MB/s    in 5.8s    \n",
            "\n",
            "2022-07-27 13:46:32 (141 MB/s) - ‘glove.6B.zip’ saved [862182753/862182753]\n",
            "\n",
            "Extracting Glove6B\n",
            "Remove Extra Files\n",
            "Process finished\n"
          ]
        }
      ]
    },
    {
      "cell_type": "code",
      "source": [
        "path_to_glove_file = \"/content/glove.6B.300d.txt\"\n",
        "path_to_tweets_file = \"/content/drive/MyDrive/DTS/Data/tweets.csv\""
      ],
      "metadata": {
        "id": "zUOzFlhdWDqF"
      },
      "execution_count": null,
      "outputs": []
    },
    {
      "cell_type": "markdown",
      "source": [
        "# Import Data"
      ],
      "metadata": {
        "id": "OqLeEE5qW8iD"
      }
    },
    {
      "cell_type": "code",
      "source": [
        "tweets = pd.read_csv(path_to_tweets_file)\n",
        "tweets = tweets[[\"text\", \"target\"]]\n",
        "tweets.head(5)"
      ],
      "metadata": {
        "colab": {
          "base_uri": "https://localhost:8080/",
          "height": 206
        },
        "id": "5C0nM0A2WUJP",
        "outputId": "71acad36-f74b-4d14-f988-32cfd0842ad7"
      },
      "execution_count": null,
      "outputs": [
        {
          "output_type": "execute_result",
          "data": {
            "text/plain": [
              "                                                text  target\n",
              "0  Communal violence in Bhainsa, Telangana. \"Ston...       1\n",
              "1  Telangana: Section 144 has been imposed in Bha...       1\n",
              "2  Arsonist sets cars ablaze at dealership https:...       1\n",
              "3  Arsonist sets cars ablaze at dealership https:...       1\n",
              "4  \"Lord Jesus, your love brings freedom and pard...       0"
            ],
            "text/html": [
              "\n",
              "  <div id=\"df-4311515c-3e6e-4cd1-a599-6728d32aa4c2\">\n",
              "    <div class=\"colab-df-container\">\n",
              "      <div>\n",
              "<style scoped>\n",
              "    .dataframe tbody tr th:only-of-type {\n",
              "        vertical-align: middle;\n",
              "    }\n",
              "\n",
              "    .dataframe tbody tr th {\n",
              "        vertical-align: top;\n",
              "    }\n",
              "\n",
              "    .dataframe thead th {\n",
              "        text-align: right;\n",
              "    }\n",
              "</style>\n",
              "<table border=\"1\" class=\"dataframe\">\n",
              "  <thead>\n",
              "    <tr style=\"text-align: right;\">\n",
              "      <th></th>\n",
              "      <th>text</th>\n",
              "      <th>target</th>\n",
              "    </tr>\n",
              "  </thead>\n",
              "  <tbody>\n",
              "    <tr>\n",
              "      <th>0</th>\n",
              "      <td>Communal violence in Bhainsa, Telangana. \"Ston...</td>\n",
              "      <td>1</td>\n",
              "    </tr>\n",
              "    <tr>\n",
              "      <th>1</th>\n",
              "      <td>Telangana: Section 144 has been imposed in Bha...</td>\n",
              "      <td>1</td>\n",
              "    </tr>\n",
              "    <tr>\n",
              "      <th>2</th>\n",
              "      <td>Arsonist sets cars ablaze at dealership https:...</td>\n",
              "      <td>1</td>\n",
              "    </tr>\n",
              "    <tr>\n",
              "      <th>3</th>\n",
              "      <td>Arsonist sets cars ablaze at dealership https:...</td>\n",
              "      <td>1</td>\n",
              "    </tr>\n",
              "    <tr>\n",
              "      <th>4</th>\n",
              "      <td>\"Lord Jesus, your love brings freedom and pard...</td>\n",
              "      <td>0</td>\n",
              "    </tr>\n",
              "  </tbody>\n",
              "</table>\n",
              "</div>\n",
              "      <button class=\"colab-df-convert\" onclick=\"convertToInteractive('df-4311515c-3e6e-4cd1-a599-6728d32aa4c2')\"\n",
              "              title=\"Convert this dataframe to an interactive table.\"\n",
              "              style=\"display:none;\">\n",
              "        \n",
              "  <svg xmlns=\"http://www.w3.org/2000/svg\" height=\"24px\"viewBox=\"0 0 24 24\"\n",
              "       width=\"24px\">\n",
              "    <path d=\"M0 0h24v24H0V0z\" fill=\"none\"/>\n",
              "    <path d=\"M18.56 5.44l.94 2.06.94-2.06 2.06-.94-2.06-.94-.94-2.06-.94 2.06-2.06.94zm-11 1L8.5 8.5l.94-2.06 2.06-.94-2.06-.94L8.5 2.5l-.94 2.06-2.06.94zm10 10l.94 2.06.94-2.06 2.06-.94-2.06-.94-.94-2.06-.94 2.06-2.06.94z\"/><path d=\"M17.41 7.96l-1.37-1.37c-.4-.4-.92-.59-1.43-.59-.52 0-1.04.2-1.43.59L10.3 9.45l-7.72 7.72c-.78.78-.78 2.05 0 2.83L4 21.41c.39.39.9.59 1.41.59.51 0 1.02-.2 1.41-.59l7.78-7.78 2.81-2.81c.8-.78.8-2.07 0-2.86zM5.41 20L4 18.59l7.72-7.72 1.47 1.35L5.41 20z\"/>\n",
              "  </svg>\n",
              "      </button>\n",
              "      \n",
              "  <style>\n",
              "    .colab-df-container {\n",
              "      display:flex;\n",
              "      flex-wrap:wrap;\n",
              "      gap: 12px;\n",
              "    }\n",
              "\n",
              "    .colab-df-convert {\n",
              "      background-color: #E8F0FE;\n",
              "      border: none;\n",
              "      border-radius: 50%;\n",
              "      cursor: pointer;\n",
              "      display: none;\n",
              "      fill: #1967D2;\n",
              "      height: 32px;\n",
              "      padding: 0 0 0 0;\n",
              "      width: 32px;\n",
              "    }\n",
              "\n",
              "    .colab-df-convert:hover {\n",
              "      background-color: #E2EBFA;\n",
              "      box-shadow: 0px 1px 2px rgba(60, 64, 67, 0.3), 0px 1px 3px 1px rgba(60, 64, 67, 0.15);\n",
              "      fill: #174EA6;\n",
              "    }\n",
              "\n",
              "    [theme=dark] .colab-df-convert {\n",
              "      background-color: #3B4455;\n",
              "      fill: #D2E3FC;\n",
              "    }\n",
              "\n",
              "    [theme=dark] .colab-df-convert:hover {\n",
              "      background-color: #434B5C;\n",
              "      box-shadow: 0px 1px 3px 1px rgba(0, 0, 0, 0.15);\n",
              "      filter: drop-shadow(0px 1px 2px rgba(0, 0, 0, 0.3));\n",
              "      fill: #FFFFFF;\n",
              "    }\n",
              "  </style>\n",
              "\n",
              "      <script>\n",
              "        const buttonEl =\n",
              "          document.querySelector('#df-4311515c-3e6e-4cd1-a599-6728d32aa4c2 button.colab-df-convert');\n",
              "        buttonEl.style.display =\n",
              "          google.colab.kernel.accessAllowed ? 'block' : 'none';\n",
              "\n",
              "        async function convertToInteractive(key) {\n",
              "          const element = document.querySelector('#df-4311515c-3e6e-4cd1-a599-6728d32aa4c2');\n",
              "          const dataTable =\n",
              "            await google.colab.kernel.invokeFunction('convertToInteractive',\n",
              "                                                     [key], {});\n",
              "          if (!dataTable) return;\n",
              "\n",
              "          const docLinkHtml = 'Like what you see? Visit the ' +\n",
              "            '<a target=\"_blank\" href=https://colab.research.google.com/notebooks/data_table.ipynb>data table notebook</a>'\n",
              "            + ' to learn more about interactive tables.';\n",
              "          element.innerHTML = '';\n",
              "          dataTable['output_type'] = 'display_data';\n",
              "          await google.colab.output.renderOutput(dataTable, element);\n",
              "          const docLink = document.createElement('div');\n",
              "          docLink.innerHTML = docLinkHtml;\n",
              "          element.appendChild(docLink);\n",
              "        }\n",
              "      </script>\n",
              "    </div>\n",
              "  </div>\n",
              "  "
            ]
          },
          "metadata": {},
          "execution_count": 6
        }
      ]
    },
    {
      "cell_type": "markdown",
      "source": [
        "# EDA"
      ],
      "metadata": {
        "id": "ysosPP6FLmo_"
      }
    },
    {
      "cell_type": "code",
      "source": [
        "# from wordcloud import WordCloud\n",
        "# plt.figure(figsize=(12,6))\n",
        "# text = ' '.join(train.no_stopwords[train['target']==1])\n",
        "# wc = WordCloud(background_color='white',stopwords=stopwords).generate(text)\n",
        "# plt.imshow(wc)"
      ],
      "metadata": {
        "id": "XLaPCmcFLmPx"
      },
      "execution_count": null,
      "outputs": []
    },
    {
      "cell_type": "code",
      "source": [
        "# from wordcloud import WordCloud\n",
        "# plt.figure(figsize=(12,6))\n",
        "# text = ' '.join(train.no_stopwords[train['target']==0])\n",
        "# wc = WordCloud(background_color='white',stopwords=stopwords).generate(text)\n",
        "# plt.imshow(wc)"
      ],
      "metadata": {
        "id": "7f7DPmQ9LtGf"
      },
      "execution_count": null,
      "outputs": []
    },
    {
      "cell_type": "markdown",
      "source": [
        "# Preprocess Data"
      ],
      "metadata": {
        "id": "6dMofS4kXjZh"
      }
    },
    {
      "cell_type": "markdown",
      "source": [
        "### Clean"
      ],
      "metadata": {
        "id": "sUWULOrSYQw8"
      }
    },
    {
      "cell_type": "code",
      "source": [
        "# Create custom functions\n",
        "def remove_URL(text):\n",
        "    url = re.compile(r'https?://\\S+|www\\.\\S+')\n",
        "    return url.sub(r'', text)\n",
        "\n",
        "def remove_emoji(text):\n",
        "    emoji_pattern = re.compile(\n",
        "        '['\n",
        "        u'\\U0001F600-\\U0001F64F'  # emoticons\n",
        "        u'\\U0001F300-\\U0001F5FF'  # symbols & pictographs\n",
        "        u'\\U0001F680-\\U0001F6FF'  # transport & map symbols\n",
        "        u'\\U0001F1E0-\\U0001F1FF'  # flags (iOS)\n",
        "        u'\\U00002702-\\U000027B0'\n",
        "        u'\\U000024C2-\\U0001F251'\n",
        "        ']+',\n",
        "        flags=re.UNICODE)\n",
        "    return emoji_pattern.sub(r'', text)\n",
        "\n",
        "def remove_html(text):\n",
        "    html = re.compile(r'<.*?>|&([a-z0-9]+|#[0-9]{1,6}|#x[0-9a-f]{1,6});')\n",
        "    return re.sub(html, '', text)\n",
        "\n",
        "def remove_punct(text):\n",
        "    table = str.maketrans('', '', string.punctuation)\n",
        "    return text.translate(table)\n",
        "\n",
        "def remove_stopwords(text):\n",
        "    text = word_tokenize(text)\n",
        "    text = [word for word in text if word not in set(nltk.corpus.stopwords.words('english'))]\n",
        "    return [' '.join(map(str, l)) for l in text]"
      ],
      "metadata": {
        "id": "k33xzRTgWpsK"
      },
      "execution_count": null,
      "outputs": []
    },
    {
      "cell_type": "code",
      "source": [
        "# clean text\n",
        "tweets['clean_text'] = tweets['text'].apply(lambda x: remove_URL(x))\n",
        "tweets['clean_text'] = tweets['clean_text'].apply(lambda x: remove_emoji(x))\n",
        "tweets['clean_text'] = tweets['clean_text'].apply(lambda x: remove_html(x))\n",
        "tweets['clean_text'] = tweets['clean_text'].apply(lambda x: remove_punct(x))\n",
        "\n",
        "# lower text\n",
        "tweets['lowered'] = tweets['clean_text'].apply(lambda x: x.lower())\n",
        "\n",
        "# remove stopwords\n",
        "tweets['no_stopwords'] = tweets['lowered'].apply(word_tokenize)\n",
        "tweets['no_stopwords'] = tweets['no_stopwords'].apply(\n",
        "    lambda x: [word for word in x \n",
        "               if word not in set(nltk.corpus.stopwords.words('english'))])\n",
        "tweets['no_stopwords'] = [' '.join(map(str, l)) for l in tweets['no_stopwords']]\n",
        "\n",
        "# lemmatize\n",
        "tweets['lemmatized'] = tweets['no_stopwords'].apply(lambda x: lemma.lemmatize(x))\n",
        "\n",
        "# Check data\n",
        "tweets.head(5)"
      ],
      "metadata": {
        "colab": {
          "base_uri": "https://localhost:8080/",
          "height": 337
        },
        "id": "kI143azkYti0",
        "outputId": "dba5f484-6383-46dc-bb0a-a070c00b1565"
      },
      "execution_count": null,
      "outputs": [
        {
          "output_type": "execute_result",
          "data": {
            "text/plain": [
              "                                                text  target  \\\n",
              "0  Communal violence in Bhainsa, Telangana. \"Ston...       1   \n",
              "1  Telangana: Section 144 has been imposed in Bha...       1   \n",
              "2  Arsonist sets cars ablaze at dealership https:...       1   \n",
              "3  Arsonist sets cars ablaze at dealership https:...       1   \n",
              "4  \"Lord Jesus, your love brings freedom and pard...       0   \n",
              "\n",
              "                                          clean_text  \\\n",
              "0  Communal violence in Bhainsa Telangana Stones ...   \n",
              "1  Telangana Section 144 has been imposed in Bhai...   \n",
              "2           Arsonist sets cars ablaze at dealership    \n",
              "3          Arsonist sets cars ablaze at dealership     \n",
              "4  Lord Jesus your love brings freedom and pardon...   \n",
              "\n",
              "                                             lowered  \\\n",
              "0  communal violence in bhainsa telangana stones ...   \n",
              "1  telangana section 144 has been imposed in bhai...   \n",
              "2           arsonist sets cars ablaze at dealership    \n",
              "3          arsonist sets cars ablaze at dealership     \n",
              "4  lord jesus your love brings freedom and pardon...   \n",
              "\n",
              "                                        no_stopwords  \\\n",
              "0  communal violence bhainsa telangana stones pel...   \n",
              "1  telangana section 144 imposed bhainsa january ...   \n",
              "2               arsonist sets cars ablaze dealership   \n",
              "3               arsonist sets cars ablaze dealership   \n",
              "4  lord jesus love brings freedom pardon fill hol...   \n",
              "\n",
              "                                          lemmatized  \n",
              "0  communal violence bhainsa telangana stones pel...  \n",
              "1  telangana section 144 imposed bhainsa january ...  \n",
              "2               arsonist sets cars ablaze dealership  \n",
              "3               arsonist sets cars ablaze dealership  \n",
              "4  lord jesus love brings freedom pardon fill hol...  "
            ],
            "text/html": [
              "\n",
              "  <div id=\"df-26153795-6466-4015-89d0-fbf7f9f68015\">\n",
              "    <div class=\"colab-df-container\">\n",
              "      <div>\n",
              "<style scoped>\n",
              "    .dataframe tbody tr th:only-of-type {\n",
              "        vertical-align: middle;\n",
              "    }\n",
              "\n",
              "    .dataframe tbody tr th {\n",
              "        vertical-align: top;\n",
              "    }\n",
              "\n",
              "    .dataframe thead th {\n",
              "        text-align: right;\n",
              "    }\n",
              "</style>\n",
              "<table border=\"1\" class=\"dataframe\">\n",
              "  <thead>\n",
              "    <tr style=\"text-align: right;\">\n",
              "      <th></th>\n",
              "      <th>text</th>\n",
              "      <th>target</th>\n",
              "      <th>clean_text</th>\n",
              "      <th>lowered</th>\n",
              "      <th>no_stopwords</th>\n",
              "      <th>lemmatized</th>\n",
              "    </tr>\n",
              "  </thead>\n",
              "  <tbody>\n",
              "    <tr>\n",
              "      <th>0</th>\n",
              "      <td>Communal violence in Bhainsa, Telangana. \"Ston...</td>\n",
              "      <td>1</td>\n",
              "      <td>Communal violence in Bhainsa Telangana Stones ...</td>\n",
              "      <td>communal violence in bhainsa telangana stones ...</td>\n",
              "      <td>communal violence bhainsa telangana stones pel...</td>\n",
              "      <td>communal violence bhainsa telangana stones pel...</td>\n",
              "    </tr>\n",
              "    <tr>\n",
              "      <th>1</th>\n",
              "      <td>Telangana: Section 144 has been imposed in Bha...</td>\n",
              "      <td>1</td>\n",
              "      <td>Telangana Section 144 has been imposed in Bhai...</td>\n",
              "      <td>telangana section 144 has been imposed in bhai...</td>\n",
              "      <td>telangana section 144 imposed bhainsa january ...</td>\n",
              "      <td>telangana section 144 imposed bhainsa january ...</td>\n",
              "    </tr>\n",
              "    <tr>\n",
              "      <th>2</th>\n",
              "      <td>Arsonist sets cars ablaze at dealership https:...</td>\n",
              "      <td>1</td>\n",
              "      <td>Arsonist sets cars ablaze at dealership</td>\n",
              "      <td>arsonist sets cars ablaze at dealership</td>\n",
              "      <td>arsonist sets cars ablaze dealership</td>\n",
              "      <td>arsonist sets cars ablaze dealership</td>\n",
              "    </tr>\n",
              "    <tr>\n",
              "      <th>3</th>\n",
              "      <td>Arsonist sets cars ablaze at dealership https:...</td>\n",
              "      <td>1</td>\n",
              "      <td>Arsonist sets cars ablaze at dealership</td>\n",
              "      <td>arsonist sets cars ablaze at dealership</td>\n",
              "      <td>arsonist sets cars ablaze dealership</td>\n",
              "      <td>arsonist sets cars ablaze dealership</td>\n",
              "    </tr>\n",
              "    <tr>\n",
              "      <th>4</th>\n",
              "      <td>\"Lord Jesus, your love brings freedom and pard...</td>\n",
              "      <td>0</td>\n",
              "      <td>Lord Jesus your love brings freedom and pardon...</td>\n",
              "      <td>lord jesus your love brings freedom and pardon...</td>\n",
              "      <td>lord jesus love brings freedom pardon fill hol...</td>\n",
              "      <td>lord jesus love brings freedom pardon fill hol...</td>\n",
              "    </tr>\n",
              "  </tbody>\n",
              "</table>\n",
              "</div>\n",
              "      <button class=\"colab-df-convert\" onclick=\"convertToInteractive('df-26153795-6466-4015-89d0-fbf7f9f68015')\"\n",
              "              title=\"Convert this dataframe to an interactive table.\"\n",
              "              style=\"display:none;\">\n",
              "        \n",
              "  <svg xmlns=\"http://www.w3.org/2000/svg\" height=\"24px\"viewBox=\"0 0 24 24\"\n",
              "       width=\"24px\">\n",
              "    <path d=\"M0 0h24v24H0V0z\" fill=\"none\"/>\n",
              "    <path d=\"M18.56 5.44l.94 2.06.94-2.06 2.06-.94-2.06-.94-.94-2.06-.94 2.06-2.06.94zm-11 1L8.5 8.5l.94-2.06 2.06-.94-2.06-.94L8.5 2.5l-.94 2.06-2.06.94zm10 10l.94 2.06.94-2.06 2.06-.94-2.06-.94-.94-2.06-.94 2.06-2.06.94z\"/><path d=\"M17.41 7.96l-1.37-1.37c-.4-.4-.92-.59-1.43-.59-.52 0-1.04.2-1.43.59L10.3 9.45l-7.72 7.72c-.78.78-.78 2.05 0 2.83L4 21.41c.39.39.9.59 1.41.59.51 0 1.02-.2 1.41-.59l7.78-7.78 2.81-2.81c.8-.78.8-2.07 0-2.86zM5.41 20L4 18.59l7.72-7.72 1.47 1.35L5.41 20z\"/>\n",
              "  </svg>\n",
              "      </button>\n",
              "      \n",
              "  <style>\n",
              "    .colab-df-container {\n",
              "      display:flex;\n",
              "      flex-wrap:wrap;\n",
              "      gap: 12px;\n",
              "    }\n",
              "\n",
              "    .colab-df-convert {\n",
              "      background-color: #E8F0FE;\n",
              "      border: none;\n",
              "      border-radius: 50%;\n",
              "      cursor: pointer;\n",
              "      display: none;\n",
              "      fill: #1967D2;\n",
              "      height: 32px;\n",
              "      padding: 0 0 0 0;\n",
              "      width: 32px;\n",
              "    }\n",
              "\n",
              "    .colab-df-convert:hover {\n",
              "      background-color: #E2EBFA;\n",
              "      box-shadow: 0px 1px 2px rgba(60, 64, 67, 0.3), 0px 1px 3px 1px rgba(60, 64, 67, 0.15);\n",
              "      fill: #174EA6;\n",
              "    }\n",
              "\n",
              "    [theme=dark] .colab-df-convert {\n",
              "      background-color: #3B4455;\n",
              "      fill: #D2E3FC;\n",
              "    }\n",
              "\n",
              "    [theme=dark] .colab-df-convert:hover {\n",
              "      background-color: #434B5C;\n",
              "      box-shadow: 0px 1px 3px 1px rgba(0, 0, 0, 0.15);\n",
              "      filter: drop-shadow(0px 1px 2px rgba(0, 0, 0, 0.3));\n",
              "      fill: #FFFFFF;\n",
              "    }\n",
              "  </style>\n",
              "\n",
              "      <script>\n",
              "        const buttonEl =\n",
              "          document.querySelector('#df-26153795-6466-4015-89d0-fbf7f9f68015 button.colab-df-convert');\n",
              "        buttonEl.style.display =\n",
              "          google.colab.kernel.accessAllowed ? 'block' : 'none';\n",
              "\n",
              "        async function convertToInteractive(key) {\n",
              "          const element = document.querySelector('#df-26153795-6466-4015-89d0-fbf7f9f68015');\n",
              "          const dataTable =\n",
              "            await google.colab.kernel.invokeFunction('convertToInteractive',\n",
              "                                                     [key], {});\n",
              "          if (!dataTable) return;\n",
              "\n",
              "          const docLinkHtml = 'Like what you see? Visit the ' +\n",
              "            '<a target=\"_blank\" href=https://colab.research.google.com/notebooks/data_table.ipynb>data table notebook</a>'\n",
              "            + ' to learn more about interactive tables.';\n",
              "          element.innerHTML = '';\n",
              "          dataTable['output_type'] = 'display_data';\n",
              "          await google.colab.output.renderOutput(dataTable, element);\n",
              "          const docLink = document.createElement('div');\n",
              "          docLink.innerHTML = docLinkHtml;\n",
              "          element.appendChild(docLink);\n",
              "        }\n",
              "      </script>\n",
              "    </div>\n",
              "  </div>\n",
              "  "
            ]
          },
          "metadata": {},
          "execution_count": 10
        }
      ]
    },
    {
      "cell_type": "code",
      "source": [
        "tweets.iloc[0, :]"
      ],
      "metadata": {
        "colab": {
          "base_uri": "https://localhost:8080/"
        },
        "id": "dIjGtNiryinw",
        "outputId": "e9e44416-c654-4749-d924-6651b7e4cfb6"
      },
      "execution_count": null,
      "outputs": [
        {
          "output_type": "execute_result",
          "data": {
            "text/plain": [
              "text            Communal violence in Bhainsa, Telangana. \"Ston...\n",
              "target                                                          1\n",
              "clean_text      Communal violence in Bhainsa Telangana Stones ...\n",
              "lowered         communal violence in bhainsa telangana stones ...\n",
              "no_stopwords    communal violence bhainsa telangana stones pel...\n",
              "lemmatized      communal violence bhainsa telangana stones pel...\n",
              "Name: 0, dtype: object"
            ]
          },
          "metadata": {},
          "execution_count": 11
        }
      ]
    },
    {
      "cell_type": "markdown",
      "source": [
        "# Split data"
      ],
      "metadata": {
        "id": "AlzPWaAGdXhM"
      }
    },
    {
      "cell_type": "code",
      "source": [
        "data = pd.DataFrame()\n",
        "\n",
        "data[\"text\"] = tweets[\"no_stopwords\"]\n",
        "data[\"target\"] = tweets[\"target\"]\n",
        "data.head(5)"
      ],
      "metadata": {
        "id": "89KpK8mgZ7yP",
        "colab": {
          "base_uri": "https://localhost:8080/",
          "height": 206
        },
        "outputId": "6708da3d-ce4a-4474-d85d-fc24320dfbf9"
      },
      "execution_count": null,
      "outputs": [
        {
          "output_type": "execute_result",
          "data": {
            "text/plain": [
              "                                                text  target\n",
              "0  communal violence bhainsa telangana stones pel...       1\n",
              "1  telangana section 144 imposed bhainsa january ...       1\n",
              "2               arsonist sets cars ablaze dealership       1\n",
              "3               arsonist sets cars ablaze dealership       1\n",
              "4  lord jesus love brings freedom pardon fill hol...       0"
            ],
            "text/html": [
              "\n",
              "  <div id=\"df-fb5c05b6-e0d6-470d-bb17-48d7e5921549\">\n",
              "    <div class=\"colab-df-container\">\n",
              "      <div>\n",
              "<style scoped>\n",
              "    .dataframe tbody tr th:only-of-type {\n",
              "        vertical-align: middle;\n",
              "    }\n",
              "\n",
              "    .dataframe tbody tr th {\n",
              "        vertical-align: top;\n",
              "    }\n",
              "\n",
              "    .dataframe thead th {\n",
              "        text-align: right;\n",
              "    }\n",
              "</style>\n",
              "<table border=\"1\" class=\"dataframe\">\n",
              "  <thead>\n",
              "    <tr style=\"text-align: right;\">\n",
              "      <th></th>\n",
              "      <th>text</th>\n",
              "      <th>target</th>\n",
              "    </tr>\n",
              "  </thead>\n",
              "  <tbody>\n",
              "    <tr>\n",
              "      <th>0</th>\n",
              "      <td>communal violence bhainsa telangana stones pel...</td>\n",
              "      <td>1</td>\n",
              "    </tr>\n",
              "    <tr>\n",
              "      <th>1</th>\n",
              "      <td>telangana section 144 imposed bhainsa january ...</td>\n",
              "      <td>1</td>\n",
              "    </tr>\n",
              "    <tr>\n",
              "      <th>2</th>\n",
              "      <td>arsonist sets cars ablaze dealership</td>\n",
              "      <td>1</td>\n",
              "    </tr>\n",
              "    <tr>\n",
              "      <th>3</th>\n",
              "      <td>arsonist sets cars ablaze dealership</td>\n",
              "      <td>1</td>\n",
              "    </tr>\n",
              "    <tr>\n",
              "      <th>4</th>\n",
              "      <td>lord jesus love brings freedom pardon fill hol...</td>\n",
              "      <td>0</td>\n",
              "    </tr>\n",
              "  </tbody>\n",
              "</table>\n",
              "</div>\n",
              "      <button class=\"colab-df-convert\" onclick=\"convertToInteractive('df-fb5c05b6-e0d6-470d-bb17-48d7e5921549')\"\n",
              "              title=\"Convert this dataframe to an interactive table.\"\n",
              "              style=\"display:none;\">\n",
              "        \n",
              "  <svg xmlns=\"http://www.w3.org/2000/svg\" height=\"24px\"viewBox=\"0 0 24 24\"\n",
              "       width=\"24px\">\n",
              "    <path d=\"M0 0h24v24H0V0z\" fill=\"none\"/>\n",
              "    <path d=\"M18.56 5.44l.94 2.06.94-2.06 2.06-.94-2.06-.94-.94-2.06-.94 2.06-2.06.94zm-11 1L8.5 8.5l.94-2.06 2.06-.94-2.06-.94L8.5 2.5l-.94 2.06-2.06.94zm10 10l.94 2.06.94-2.06 2.06-.94-2.06-.94-.94-2.06-.94 2.06-2.06.94z\"/><path d=\"M17.41 7.96l-1.37-1.37c-.4-.4-.92-.59-1.43-.59-.52 0-1.04.2-1.43.59L10.3 9.45l-7.72 7.72c-.78.78-.78 2.05 0 2.83L4 21.41c.39.39.9.59 1.41.59.51 0 1.02-.2 1.41-.59l7.78-7.78 2.81-2.81c.8-.78.8-2.07 0-2.86zM5.41 20L4 18.59l7.72-7.72 1.47 1.35L5.41 20z\"/>\n",
              "  </svg>\n",
              "      </button>\n",
              "      \n",
              "  <style>\n",
              "    .colab-df-container {\n",
              "      display:flex;\n",
              "      flex-wrap:wrap;\n",
              "      gap: 12px;\n",
              "    }\n",
              "\n",
              "    .colab-df-convert {\n",
              "      background-color: #E8F0FE;\n",
              "      border: none;\n",
              "      border-radius: 50%;\n",
              "      cursor: pointer;\n",
              "      display: none;\n",
              "      fill: #1967D2;\n",
              "      height: 32px;\n",
              "      padding: 0 0 0 0;\n",
              "      width: 32px;\n",
              "    }\n",
              "\n",
              "    .colab-df-convert:hover {\n",
              "      background-color: #E2EBFA;\n",
              "      box-shadow: 0px 1px 2px rgba(60, 64, 67, 0.3), 0px 1px 3px 1px rgba(60, 64, 67, 0.15);\n",
              "      fill: #174EA6;\n",
              "    }\n",
              "\n",
              "    [theme=dark] .colab-df-convert {\n",
              "      background-color: #3B4455;\n",
              "      fill: #D2E3FC;\n",
              "    }\n",
              "\n",
              "    [theme=dark] .colab-df-convert:hover {\n",
              "      background-color: #434B5C;\n",
              "      box-shadow: 0px 1px 3px 1px rgba(0, 0, 0, 0.15);\n",
              "      filter: drop-shadow(0px 1px 2px rgba(0, 0, 0, 0.3));\n",
              "      fill: #FFFFFF;\n",
              "    }\n",
              "  </style>\n",
              "\n",
              "      <script>\n",
              "        const buttonEl =\n",
              "          document.querySelector('#df-fb5c05b6-e0d6-470d-bb17-48d7e5921549 button.colab-df-convert');\n",
              "        buttonEl.style.display =\n",
              "          google.colab.kernel.accessAllowed ? 'block' : 'none';\n",
              "\n",
              "        async function convertToInteractive(key) {\n",
              "          const element = document.querySelector('#df-fb5c05b6-e0d6-470d-bb17-48d7e5921549');\n",
              "          const dataTable =\n",
              "            await google.colab.kernel.invokeFunction('convertToInteractive',\n",
              "                                                     [key], {});\n",
              "          if (!dataTable) return;\n",
              "\n",
              "          const docLinkHtml = 'Like what you see? Visit the ' +\n",
              "            '<a target=\"_blank\" href=https://colab.research.google.com/notebooks/data_table.ipynb>data table notebook</a>'\n",
              "            + ' to learn more about interactive tables.';\n",
              "          element.innerHTML = '';\n",
              "          dataTable['output_type'] = 'display_data';\n",
              "          await google.colab.output.renderOutput(dataTable, element);\n",
              "          const docLink = document.createElement('div');\n",
              "          docLink.innerHTML = docLinkHtml;\n",
              "          element.appendChild(docLink);\n",
              "        }\n",
              "      </script>\n",
              "    </div>\n",
              "  </div>\n",
              "  "
            ]
          },
          "metadata": {},
          "execution_count": 12
        }
      ]
    },
    {
      "cell_type": "code",
      "source": [
        "# Split data into train, test, and validation\n",
        "X_train, X_test, y_train, y_test  = train_test_split(\n",
        "    data.text, \n",
        "    data.target, \n",
        "    stratify = data.target, \n",
        "    test_size = 0.2, \n",
        "    random_state = 321\n",
        ")\n",
        "\n",
        "X_train, X_val, y_train, y_val = train_test_split(\n",
        "    X_train, \n",
        "    y_train, \n",
        "    stratify = y_train, \n",
        "    test_size = 0.2, \n",
        "    random_state = 321)\n",
        "\n",
        "# Check Data\n",
        "print(f\"Train Dataset Size = {len(X_train)}\")\n",
        "print(f\"Val Dataset Size = {len(X_val)}\")\n",
        "print(f\"Test Dataset Size = {len(X_test)}\")"
      ],
      "metadata": {
        "id": "buMNKBqLddLY",
        "colab": {
          "base_uri": "https://localhost:8080/"
        },
        "outputId": "c4c578c5-9646-4dd1-a199-e02e242f5db0"
      },
      "execution_count": null,
      "outputs": [
        {
          "output_type": "stream",
          "name": "stdout",
          "text": [
            "Train Dataset Size = 7276\n",
            "Val Dataset Size = 1820\n",
            "Test Dataset Size = 2274\n"
          ]
        }
      ]
    },
    {
      "cell_type": "code",
      "source": [
        "# Tokenize words\n",
        "tokenizer = Tokenizer(oov_token = \"<<OOV>>\")\n",
        "tokenizer.fit_on_texts(pd.concat([X_train, X_test], axis=0))\n",
        "\n",
        "# Create sequences\n",
        "sequences_train = tokenizer.texts_to_sequences(X_train)\n",
        "sequences_test = tokenizer.texts_to_sequences(X_test)\n",
        "sequences_val = tokenizer.texts_to_sequences(X_val)\n",
        "\n",
        "X_train = pad_sequences(sequences_train, maxlen=256, truncating='pre')\n",
        "X_test = pad_sequences(sequences_test, maxlen=256, truncating='pre')\n",
        "X_val = pad_sequences(sequences_val, maxlen=256, truncating='pre')\n",
        "\n",
        "# Encode labels\n",
        "le = LabelEncoder()\n",
        "y_train = le.fit_transform(y_train)\n",
        "y_test = le.fit_transform(y_test)\n",
        "y_val = le.fit_transform(y_val)\n",
        "\n",
        "# Check data\n",
        "vocabSize = len(tokenizer.index_word) + 1\n",
        "print(f\"Vocabulary size = {vocabSize}\")"
      ],
      "metadata": {
        "id": "MiWqLezHgbh0",
        "colab": {
          "base_uri": "https://localhost:8080/"
        },
        "outputId": "84a60452-71b5-4492-8bb3-057f38a0c398"
      },
      "execution_count": null,
      "outputs": [
        {
          "output_type": "stream",
          "name": "stdout",
          "text": [
            "Vocabulary size = 22025\n"
          ]
        }
      ]
    },
    {
      "cell_type": "markdown",
      "source": [
        "# Word Embedding"
      ],
      "metadata": {
        "id": "9DoYu49MMBOI"
      }
    },
    {
      "cell_type": "code",
      "source": [
        "embeddings_index = {}\n",
        "embedding_dim = 300\n",
        "hits = 0\n",
        "misses = 0\n",
        "num_tokens = vocabSize\n",
        "\n",
        "# Read word vectors\n",
        "with open(path_to_glove_file) as f:\n",
        "    for line in f:\n",
        "        word, coefs = line.split(maxsplit=1)\n",
        "        coefs = np.fromstring(coefs, \"f\", sep=\" \")\n",
        "        embeddings_index[word] = coefs\n",
        "print(\"Found %s word vectors.\" % len(embeddings_index))\n",
        "\n",
        "\n",
        "# Assign word vectors to our dictionary/vocabulary\n",
        "embedding_matrix = np.zeros((num_tokens, embedding_dim))\n",
        "for word, i in tokenizer.word_index.items():\n",
        "    embedding_vector = embeddings_index.get(word)\n",
        "    if embedding_vector is not None:\n",
        "        # Words not found in embedding index will be all-zeros.\n",
        "        # This includes the representation for \"padding\" and \"OOV\"\n",
        "        embedding_matrix[i] = embedding_vector\n",
        "        hits += 1\n",
        "    else:\n",
        "        misses += 1\n",
        "print(\"Converted %d words (%d misses)\" % (hits, misses))"
      ],
      "metadata": {
        "id": "W38spwSMZ4v_",
        "colab": {
          "base_uri": "https://localhost:8080/"
        },
        "outputId": "a5fea319-e7db-45f2-b3d6-0e0b99d94a42"
      },
      "execution_count": null,
      "outputs": [
        {
          "output_type": "stream",
          "name": "stdout",
          "text": [
            "Found 400001 word vectors.\n",
            "Converted 15564 words (6460 misses)\n"
          ]
        }
      ]
    },
    {
      "cell_type": "markdown",
      "source": [
        "# Deep Learning Models"
      ],
      "metadata": {
        "id": "UDVaSF0pMFTP"
      }
    },
    {
      "cell_type": "code",
      "source": [
        "optimizerSGD  = tf.keras.optimizers.SGD(learning_rate=1e-6, momentum=0.9)\n",
        "optimizerADAM = tf.keras.optimizers.Adam(learning_rate=1e-4)"
      ],
      "metadata": {
        "id": "MltVZsgCH5Kg"
      },
      "execution_count": null,
      "outputs": []
    },
    {
      "cell_type": "code",
      "source": [
        "# Model 1\n",
        "model_1 = tf.keras.Sequential([\n",
        "    tf.keras.layers.Embedding(\n",
        "        num_tokens, embedding_dim,\n",
        "        embeddings_initializer=tf.keras.initializers.Constant(embedding_matrix),\n",
        "        trainable=False),\n",
        "    tf.keras.layers.Conv1D(filters=216, kernel_size=3,\n",
        "                      strides=1, padding=\"causal\",\n",
        "                      activation=\"relu\"),\n",
        "    tf.keras.layers.MaxPooling1D(pool_size=2),\n",
        "    tf.keras.layers.Conv1D(filters=216, kernel_size=3,\n",
        "                      strides=1, padding=\"causal\",\n",
        "                      activation=\"relu\"),\n",
        "    tf.keras.layers.MaxPooling1D(pool_size=2),\n",
        "    tf.keras.layers.Dropout(0.3),\n",
        "    tf.keras.layers.Bidirectional(tf.keras.layers.LSTM(1024, return_sequences = True)),\n",
        "    tf.keras.layers.Dropout(0.3),\n",
        "    tf.keras.layers.Bidirectional(tf.keras.layers.LSTM(512)),\n",
        "    tf.keras.layers.Dropout(0.3),\n",
        "    tf.keras.layers.Dense(1024, activation='relu'),\n",
        "    tf.keras.layers.Dropout(0.3),\n",
        "    tf.keras.layers.Dense(1, activation='sigmoid')\n",
        "])\n",
        "\n",
        "model_1.compile(loss = 'binary_crossentropy', \n",
        "              optimizer = optimizerADAM, \n",
        "              metrics = ['accuracy'])\n",
        "model_1.summary()\n",
        "\n",
        "history_1 = model_1.fit(X_train, y_train, epochs=15, validation_data=(X_val, y_val), verbose=1)"
      ],
      "metadata": {
        "colab": {
          "base_uri": "https://localhost:8080/"
        },
        "id": "5ejur0E0HCDi",
        "outputId": "d58fd108-fff2-4eb0-bb7f-7d215e00c90c"
      },
      "execution_count": null,
      "outputs": [
        {
          "output_type": "stream",
          "name": "stdout",
          "text": [
            "Model: \"sequential\"\n",
            "_________________________________________________________________\n",
            " Layer (type)                Output Shape              Param #   \n",
            "=================================================================\n",
            " embedding (Embedding)       (None, None, 300)         6607500   \n",
            "                                                                 \n",
            " conv1d (Conv1D)             (None, None, 216)         194616    \n",
            "                                                                 \n",
            " max_pooling1d (MaxPooling1D  (None, None, 216)        0         \n",
            " )                                                               \n",
            "                                                                 \n",
            " conv1d_1 (Conv1D)           (None, None, 216)         140184    \n",
            "                                                                 \n",
            " max_pooling1d_1 (MaxPooling  (None, None, 216)        0         \n",
            " 1D)                                                             \n",
            "                                                                 \n",
            " dropout (Dropout)           (None, None, 216)         0         \n",
            "                                                                 \n",
            " bidirectional (Bidirectiona  (None, None, 2048)       10166272  \n",
            " l)                                                              \n",
            "                                                                 \n",
            " dropout_1 (Dropout)         (None, None, 2048)        0         \n",
            "                                                                 \n",
            " bidirectional_1 (Bidirectio  (None, 1024)             10489856  \n",
            " nal)                                                            \n",
            "                                                                 \n",
            " dropout_2 (Dropout)         (None, 1024)              0         \n",
            "                                                                 \n",
            " dense (Dense)               (None, 1024)              1049600   \n",
            "                                                                 \n",
            " dropout_3 (Dropout)         (None, 1024)              0         \n",
            "                                                                 \n",
            " dense_1 (Dense)             (None, 1)                 1025      \n",
            "                                                                 \n",
            "=================================================================\n",
            "Total params: 28,649,053\n",
            "Trainable params: 22,041,553\n",
            "Non-trainable params: 6,607,500\n",
            "_________________________________________________________________\n",
            "Epoch 1/15\n",
            "228/228 [==============================] - 86s 111ms/step - loss: 0.3991 - accuracy: 0.8421 - val_loss: 0.3265 - val_accuracy: 0.8615\n",
            "Epoch 2/15\n",
            "228/228 [==============================] - 24s 106ms/step - loss: 0.2937 - accuracy: 0.8826 - val_loss: 0.3179 - val_accuracy: 0.8692\n",
            "Epoch 3/15\n",
            "228/228 [==============================] - 25s 108ms/step - loss: 0.2536 - accuracy: 0.9017 - val_loss: 0.3113 - val_accuracy: 0.8736\n",
            "Epoch 4/15\n",
            "228/228 [==============================] - 25s 110ms/step - loss: 0.1907 - accuracy: 0.9285 - val_loss: 0.3179 - val_accuracy: 0.8879\n",
            "Epoch 5/15\n",
            "228/228 [==============================] - 25s 111ms/step - loss: 0.1334 - accuracy: 0.9522 - val_loss: 0.3190 - val_accuracy: 0.8703\n",
            "Epoch 6/15\n",
            "228/228 [==============================] - 26s 112ms/step - loss: 0.0870 - accuracy: 0.9706 - val_loss: 0.3858 - val_accuracy: 0.8802\n",
            "Epoch 7/15\n",
            "228/228 [==============================] - 26s 113ms/step - loss: 0.0565 - accuracy: 0.9827 - val_loss: 0.4577 - val_accuracy: 0.8934\n",
            "Epoch 8/15\n",
            "228/228 [==============================] - 26s 114ms/step - loss: 0.0397 - accuracy: 0.9865 - val_loss: 0.4433 - val_accuracy: 0.8703\n",
            "Epoch 9/15\n",
            "228/228 [==============================] - 26s 116ms/step - loss: 0.0393 - accuracy: 0.9872 - val_loss: 0.4035 - val_accuracy: 0.8857\n",
            "Epoch 10/15\n",
            "228/228 [==============================] - 27s 116ms/step - loss: 0.0228 - accuracy: 0.9931 - val_loss: 0.5836 - val_accuracy: 0.8819\n",
            "Epoch 11/15\n",
            "228/228 [==============================] - 27s 117ms/step - loss: 0.0264 - accuracy: 0.9927 - val_loss: 0.5127 - val_accuracy: 0.8846\n",
            "Epoch 12/15\n",
            "228/228 [==============================] - 27s 118ms/step - loss: 0.0224 - accuracy: 0.9946 - val_loss: 0.5139 - val_accuracy: 0.8901\n",
            "Epoch 13/15\n",
            "228/228 [==============================] - 27s 119ms/step - loss: 0.0161 - accuracy: 0.9955 - val_loss: 0.6588 - val_accuracy: 0.8874\n",
            "Epoch 14/15\n",
            "228/228 [==============================] - 27s 119ms/step - loss: 0.0167 - accuracy: 0.9953 - val_loss: 0.7117 - val_accuracy: 0.8879\n",
            "Epoch 15/15\n",
            "228/228 [==============================] - 27s 120ms/step - loss: 0.0211 - accuracy: 0.9944 - val_loss: 0.5467 - val_accuracy: 0.8907\n"
          ]
        }
      ]
    },
    {
      "cell_type": "code",
      "source": [
        "# Model 2\n",
        "model_2 = tf.keras.Sequential([\n",
        "    tf.keras.layers.Embedding(\n",
        "        num_tokens, embedding_dim,\n",
        "        embeddings_initializer=tf.keras.initializers.Constant(embedding_matrix),\n",
        "        trainable=False),\n",
        "    tf.keras.layers.Conv1D(filters=216, kernel_size=3,\n",
        "                      strides=1, padding=\"causal\",\n",
        "                      activation=\"relu\"),\n",
        "    tf.keras.layers.MaxPooling1D(pool_size=2),\n",
        "    tf.keras.layers.Conv1D(filters=216, kernel_size=3,\n",
        "                      strides=1, padding=\"causal\",\n",
        "                      activation=\"relu\"),\n",
        "    tf.keras.layers.MaxPooling1D(pool_size=2),\n",
        "    tf.keras.layers.Dropout(0.3),\n",
        "    tf.keras.layers.Bidirectional(tf.keras.layers.LSTM(1024, return_sequences = True)),\n",
        "    tf.keras.layers.Dropout(0.3),\n",
        "    tf.keras.layers.Bidirectional(tf.keras.layers.LSTM(512)),\n",
        "    tf.keras.layers.Dropout(0.3),\n",
        "    tf.keras.layers.Dense(1024, activation='relu'),\n",
        "    tf.keras.layers.Dropout(0.3),\n",
        "    tf.keras.layers.Dense(1, activation='sigmoid')\n",
        "])\n",
        "\n",
        "model_2.compile(loss = 'binary_crossentropy', \n",
        "              optimizer = optimizerSGD, \n",
        "              metrics = ['accuracy'])\n",
        "model_2.summary()\n",
        "\n",
        "history_2 = model_2.fit(X_train, y_train, epochs=15, validation_data=(X_val, y_val), verbose=1)"
      ],
      "metadata": {
        "colab": {
          "base_uri": "https://localhost:8080/",
          "height": 1000
        },
        "id": "YPuehQYPHL9L",
        "outputId": "42fa1a13-7caa-48c6-a0a8-af66de3b29ca"
      },
      "execution_count": null,
      "outputs": [
        {
          "output_type": "stream",
          "name": "stdout",
          "text": [
            "Model: \"sequential_1\"\n",
            "_________________________________________________________________\n",
            " Layer (type)                Output Shape              Param #   \n",
            "=================================================================\n",
            " embedding_1 (Embedding)     (None, None, 300)         6607500   \n",
            "                                                                 \n",
            " conv1d_2 (Conv1D)           (None, None, 216)         194616    \n",
            "                                                                 \n",
            " max_pooling1d_2 (MaxPooling  (None, None, 216)        0         \n",
            " 1D)                                                             \n",
            "                                                                 \n",
            " conv1d_3 (Conv1D)           (None, None, 216)         140184    \n",
            "                                                                 \n",
            " max_pooling1d_3 (MaxPooling  (None, None, 216)        0         \n",
            " 1D)                                                             \n",
            "                                                                 \n",
            " dropout_4 (Dropout)         (None, None, 216)         0         \n",
            "                                                                 \n",
            " bidirectional_2 (Bidirectio  (None, None, 2048)       10166272  \n",
            " nal)                                                            \n",
            "                                                                 \n",
            " dropout_5 (Dropout)         (None, None, 2048)        0         \n",
            "                                                                 \n",
            " bidirectional_3 (Bidirectio  (None, 1024)             10489856  \n",
            " nal)                                                            \n",
            "                                                                 \n",
            " dropout_6 (Dropout)         (None, 1024)              0         \n",
            "                                                                 \n",
            " dense_2 (Dense)             (None, 1024)              1049600   \n",
            "                                                                 \n",
            " dropout_7 (Dropout)         (None, 1024)              0         \n",
            "                                                                 \n",
            " dense_3 (Dense)             (None, 1)                 1025      \n",
            "                                                                 \n",
            "=================================================================\n",
            "Total params: 28,649,053\n",
            "Trainable params: 22,041,553\n",
            "Non-trainable params: 6,607,500\n",
            "_________________________________________________________________\n",
            "Epoch 1/15\n",
            "228/228 [==============================] - 34s 123ms/step - loss: 0.6870 - accuracy: 0.7294 - val_loss: 0.6894 - val_accuracy: 0.8115\n",
            "Epoch 2/15\n",
            "228/228 [==============================] - 27s 119ms/step - loss: 0.6860 - accuracy: 0.7581 - val_loss: 0.6885 - val_accuracy: 0.8137\n",
            "Epoch 3/15\n",
            "228/228 [==============================] - 27s 118ms/step - loss: 0.6854 - accuracy: 0.7697 - val_loss: 0.6877 - val_accuracy: 0.8143\n",
            "Epoch 4/15\n",
            "228/228 [==============================] - 27s 118ms/step - loss: 0.6848 - accuracy: 0.7735 - val_loss: 0.6869 - val_accuracy: 0.8143\n",
            "Epoch 5/15\n",
            "228/228 [==============================] - 27s 117ms/step - loss: 0.6835 - accuracy: 0.7919 - val_loss: 0.6860 - val_accuracy: 0.8143\n",
            "Epoch 6/15\n",
            "228/228 [==============================] - 27s 117ms/step - loss: 0.6830 - accuracy: 0.7943 - val_loss: 0.6852 - val_accuracy: 0.8143\n",
            "Epoch 7/15\n",
            " 57/228 [======>.......................] - ETA: 18s - loss: 0.6829 - accuracy: 0.7928"
          ]
        },
        {
          "output_type": "error",
          "ename": "KeyboardInterrupt",
          "evalue": "ignored",
          "traceback": [
            "\u001b[0;31m---------------------------------------------------------------------------\u001b[0m",
            "\u001b[0;31mKeyboardInterrupt\u001b[0m                         Traceback (most recent call last)",
            "\u001b[0;32m<ipython-input-18-cff3140415b7>\u001b[0m in \u001b[0;36m<module>\u001b[0;34m()\u001b[0m\n\u001b[1;32m     28\u001b[0m \u001b[0mmodel_2\u001b[0m\u001b[0;34m.\u001b[0m\u001b[0msummary\u001b[0m\u001b[0;34m(\u001b[0m\u001b[0;34m)\u001b[0m\u001b[0;34m\u001b[0m\u001b[0;34m\u001b[0m\u001b[0m\n\u001b[1;32m     29\u001b[0m \u001b[0;34m\u001b[0m\u001b[0m\n\u001b[0;32m---> 30\u001b[0;31m \u001b[0mhistory_2\u001b[0m \u001b[0;34m=\u001b[0m \u001b[0mmodel_2\u001b[0m\u001b[0;34m.\u001b[0m\u001b[0mfit\u001b[0m\u001b[0;34m(\u001b[0m\u001b[0mX_train\u001b[0m\u001b[0;34m,\u001b[0m \u001b[0my_train\u001b[0m\u001b[0;34m,\u001b[0m \u001b[0mepochs\u001b[0m\u001b[0;34m=\u001b[0m\u001b[0;36m15\u001b[0m\u001b[0;34m,\u001b[0m \u001b[0mvalidation_data\u001b[0m\u001b[0;34m=\u001b[0m\u001b[0;34m(\u001b[0m\u001b[0mX_val\u001b[0m\u001b[0;34m,\u001b[0m \u001b[0my_val\u001b[0m\u001b[0;34m)\u001b[0m\u001b[0;34m,\u001b[0m \u001b[0mverbose\u001b[0m\u001b[0;34m=\u001b[0m\u001b[0;36m1\u001b[0m\u001b[0;34m)\u001b[0m\u001b[0;34m\u001b[0m\u001b[0;34m\u001b[0m\u001b[0m\n\u001b[0m",
            "\u001b[0;32m/usr/local/lib/python3.7/dist-packages/keras/utils/traceback_utils.py\u001b[0m in \u001b[0;36merror_handler\u001b[0;34m(*args, **kwargs)\u001b[0m\n\u001b[1;32m     62\u001b[0m     \u001b[0mfiltered_tb\u001b[0m \u001b[0;34m=\u001b[0m \u001b[0;32mNone\u001b[0m\u001b[0;34m\u001b[0m\u001b[0;34m\u001b[0m\u001b[0m\n\u001b[1;32m     63\u001b[0m     \u001b[0;32mtry\u001b[0m\u001b[0;34m:\u001b[0m\u001b[0;34m\u001b[0m\u001b[0;34m\u001b[0m\u001b[0m\n\u001b[0;32m---> 64\u001b[0;31m       \u001b[0;32mreturn\u001b[0m \u001b[0mfn\u001b[0m\u001b[0;34m(\u001b[0m\u001b[0;34m*\u001b[0m\u001b[0margs\u001b[0m\u001b[0;34m,\u001b[0m \u001b[0;34m**\u001b[0m\u001b[0mkwargs\u001b[0m\u001b[0;34m)\u001b[0m\u001b[0;34m\u001b[0m\u001b[0;34m\u001b[0m\u001b[0m\n\u001b[0m\u001b[1;32m     65\u001b[0m     \u001b[0;32mexcept\u001b[0m \u001b[0mException\u001b[0m \u001b[0;32mas\u001b[0m \u001b[0me\u001b[0m\u001b[0;34m:\u001b[0m  \u001b[0;31m# pylint: disable=broad-except\u001b[0m\u001b[0;34m\u001b[0m\u001b[0;34m\u001b[0m\u001b[0m\n\u001b[1;32m     66\u001b[0m       \u001b[0mfiltered_tb\u001b[0m \u001b[0;34m=\u001b[0m \u001b[0m_process_traceback_frames\u001b[0m\u001b[0;34m(\u001b[0m\u001b[0me\u001b[0m\u001b[0;34m.\u001b[0m\u001b[0m__traceback__\u001b[0m\u001b[0;34m)\u001b[0m\u001b[0;34m\u001b[0m\u001b[0;34m\u001b[0m\u001b[0m\n",
            "\u001b[0;32m/usr/local/lib/python3.7/dist-packages/keras/engine/training.py\u001b[0m in \u001b[0;36mfit\u001b[0;34m(self, x, y, batch_size, epochs, verbose, callbacks, validation_split, validation_data, shuffle, class_weight, sample_weight, initial_epoch, steps_per_epoch, validation_steps, validation_batch_size, validation_freq, max_queue_size, workers, use_multiprocessing)\u001b[0m\n\u001b[1;32m   1382\u001b[0m                 _r=1):\n\u001b[1;32m   1383\u001b[0m               \u001b[0mcallbacks\u001b[0m\u001b[0;34m.\u001b[0m\u001b[0mon_train_batch_begin\u001b[0m\u001b[0;34m(\u001b[0m\u001b[0mstep\u001b[0m\u001b[0;34m)\u001b[0m\u001b[0;34m\u001b[0m\u001b[0;34m\u001b[0m\u001b[0m\n\u001b[0;32m-> 1384\u001b[0;31m               \u001b[0mtmp_logs\u001b[0m \u001b[0;34m=\u001b[0m \u001b[0mself\u001b[0m\u001b[0;34m.\u001b[0m\u001b[0mtrain_function\u001b[0m\u001b[0;34m(\u001b[0m\u001b[0miterator\u001b[0m\u001b[0;34m)\u001b[0m\u001b[0;34m\u001b[0m\u001b[0;34m\u001b[0m\u001b[0m\n\u001b[0m\u001b[1;32m   1385\u001b[0m               \u001b[0;32mif\u001b[0m \u001b[0mdata_handler\u001b[0m\u001b[0;34m.\u001b[0m\u001b[0mshould_sync\u001b[0m\u001b[0;34m:\u001b[0m\u001b[0;34m\u001b[0m\u001b[0;34m\u001b[0m\u001b[0m\n\u001b[1;32m   1386\u001b[0m                 \u001b[0mcontext\u001b[0m\u001b[0;34m.\u001b[0m\u001b[0masync_wait\u001b[0m\u001b[0;34m(\u001b[0m\u001b[0;34m)\u001b[0m\u001b[0;34m\u001b[0m\u001b[0;34m\u001b[0m\u001b[0m\n",
            "\u001b[0;32m/usr/local/lib/python3.7/dist-packages/tensorflow/python/util/traceback_utils.py\u001b[0m in \u001b[0;36merror_handler\u001b[0;34m(*args, **kwargs)\u001b[0m\n\u001b[1;32m    148\u001b[0m     \u001b[0mfiltered_tb\u001b[0m \u001b[0;34m=\u001b[0m \u001b[0;32mNone\u001b[0m\u001b[0;34m\u001b[0m\u001b[0;34m\u001b[0m\u001b[0m\n\u001b[1;32m    149\u001b[0m     \u001b[0;32mtry\u001b[0m\u001b[0;34m:\u001b[0m\u001b[0;34m\u001b[0m\u001b[0;34m\u001b[0m\u001b[0m\n\u001b[0;32m--> 150\u001b[0;31m       \u001b[0;32mreturn\u001b[0m \u001b[0mfn\u001b[0m\u001b[0;34m(\u001b[0m\u001b[0;34m*\u001b[0m\u001b[0margs\u001b[0m\u001b[0;34m,\u001b[0m \u001b[0;34m**\u001b[0m\u001b[0mkwargs\u001b[0m\u001b[0;34m)\u001b[0m\u001b[0;34m\u001b[0m\u001b[0;34m\u001b[0m\u001b[0m\n\u001b[0m\u001b[1;32m    151\u001b[0m     \u001b[0;32mexcept\u001b[0m \u001b[0mException\u001b[0m \u001b[0;32mas\u001b[0m \u001b[0me\u001b[0m\u001b[0;34m:\u001b[0m\u001b[0;34m\u001b[0m\u001b[0;34m\u001b[0m\u001b[0m\n\u001b[1;32m    152\u001b[0m       \u001b[0mfiltered_tb\u001b[0m \u001b[0;34m=\u001b[0m \u001b[0m_process_traceback_frames\u001b[0m\u001b[0;34m(\u001b[0m\u001b[0me\u001b[0m\u001b[0;34m.\u001b[0m\u001b[0m__traceback__\u001b[0m\u001b[0;34m)\u001b[0m\u001b[0;34m\u001b[0m\u001b[0;34m\u001b[0m\u001b[0m\n",
            "\u001b[0;32m/usr/local/lib/python3.7/dist-packages/tensorflow/python/eager/def_function.py\u001b[0m in \u001b[0;36m__call__\u001b[0;34m(self, *args, **kwds)\u001b[0m\n\u001b[1;32m    913\u001b[0m \u001b[0;34m\u001b[0m\u001b[0m\n\u001b[1;32m    914\u001b[0m       \u001b[0;32mwith\u001b[0m \u001b[0mOptionalXlaContext\u001b[0m\u001b[0;34m(\u001b[0m\u001b[0mself\u001b[0m\u001b[0;34m.\u001b[0m\u001b[0m_jit_compile\u001b[0m\u001b[0;34m)\u001b[0m\u001b[0;34m:\u001b[0m\u001b[0;34m\u001b[0m\u001b[0;34m\u001b[0m\u001b[0m\n\u001b[0;32m--> 915\u001b[0;31m         \u001b[0mresult\u001b[0m \u001b[0;34m=\u001b[0m \u001b[0mself\u001b[0m\u001b[0;34m.\u001b[0m\u001b[0m_call\u001b[0m\u001b[0;34m(\u001b[0m\u001b[0;34m*\u001b[0m\u001b[0margs\u001b[0m\u001b[0;34m,\u001b[0m \u001b[0;34m**\u001b[0m\u001b[0mkwds\u001b[0m\u001b[0;34m)\u001b[0m\u001b[0;34m\u001b[0m\u001b[0;34m\u001b[0m\u001b[0m\n\u001b[0m\u001b[1;32m    916\u001b[0m \u001b[0;34m\u001b[0m\u001b[0m\n\u001b[1;32m    917\u001b[0m       \u001b[0mnew_tracing_count\u001b[0m \u001b[0;34m=\u001b[0m \u001b[0mself\u001b[0m\u001b[0;34m.\u001b[0m\u001b[0mexperimental_get_tracing_count\u001b[0m\u001b[0;34m(\u001b[0m\u001b[0;34m)\u001b[0m\u001b[0;34m\u001b[0m\u001b[0;34m\u001b[0m\u001b[0m\n",
            "\u001b[0;32m/usr/local/lib/python3.7/dist-packages/tensorflow/python/eager/def_function.py\u001b[0m in \u001b[0;36m_call\u001b[0;34m(self, *args, **kwds)\u001b[0m\n\u001b[1;32m    945\u001b[0m       \u001b[0;31m# In this case we have created variables on the first call, so we run the\u001b[0m\u001b[0;34m\u001b[0m\u001b[0;34m\u001b[0m\u001b[0;34m\u001b[0m\u001b[0m\n\u001b[1;32m    946\u001b[0m       \u001b[0;31m# defunned version which is guaranteed to never create variables.\u001b[0m\u001b[0;34m\u001b[0m\u001b[0;34m\u001b[0m\u001b[0;34m\u001b[0m\u001b[0m\n\u001b[0;32m--> 947\u001b[0;31m       \u001b[0;32mreturn\u001b[0m \u001b[0mself\u001b[0m\u001b[0;34m.\u001b[0m\u001b[0m_stateless_fn\u001b[0m\u001b[0;34m(\u001b[0m\u001b[0;34m*\u001b[0m\u001b[0margs\u001b[0m\u001b[0;34m,\u001b[0m \u001b[0;34m**\u001b[0m\u001b[0mkwds\u001b[0m\u001b[0;34m)\u001b[0m  \u001b[0;31m# pylint: disable=not-callable\u001b[0m\u001b[0;34m\u001b[0m\u001b[0;34m\u001b[0m\u001b[0m\n\u001b[0m\u001b[1;32m    948\u001b[0m     \u001b[0;32melif\u001b[0m \u001b[0mself\u001b[0m\u001b[0;34m.\u001b[0m\u001b[0m_stateful_fn\u001b[0m \u001b[0;32mis\u001b[0m \u001b[0;32mnot\u001b[0m \u001b[0;32mNone\u001b[0m\u001b[0;34m:\u001b[0m\u001b[0;34m\u001b[0m\u001b[0;34m\u001b[0m\u001b[0m\n\u001b[1;32m    949\u001b[0m       \u001b[0;31m# Release the lock early so that multiple threads can perform the call\u001b[0m\u001b[0;34m\u001b[0m\u001b[0;34m\u001b[0m\u001b[0;34m\u001b[0m\u001b[0m\n",
            "\u001b[0;32m/usr/local/lib/python3.7/dist-packages/tensorflow/python/eager/function.py\u001b[0m in \u001b[0;36m__call__\u001b[0;34m(self, *args, **kwargs)\u001b[0m\n\u001b[1;32m   2955\u001b[0m        filtered_flat_args) = self._maybe_define_function(args, kwargs)\n\u001b[1;32m   2956\u001b[0m     return graph_function._call_flat(\n\u001b[0;32m-> 2957\u001b[0;31m         filtered_flat_args, captured_inputs=graph_function.captured_inputs)  # pylint: disable=protected-access\n\u001b[0m\u001b[1;32m   2958\u001b[0m \u001b[0;34m\u001b[0m\u001b[0m\n\u001b[1;32m   2959\u001b[0m   \u001b[0;34m@\u001b[0m\u001b[0mproperty\u001b[0m\u001b[0;34m\u001b[0m\u001b[0;34m\u001b[0m\u001b[0m\n",
            "\u001b[0;32m/usr/local/lib/python3.7/dist-packages/tensorflow/python/eager/function.py\u001b[0m in \u001b[0;36m_call_flat\u001b[0;34m(self, args, captured_inputs, cancellation_manager)\u001b[0m\n\u001b[1;32m   1852\u001b[0m       \u001b[0;31m# No tape is watching; skip to running the function.\u001b[0m\u001b[0;34m\u001b[0m\u001b[0;34m\u001b[0m\u001b[0;34m\u001b[0m\u001b[0m\n\u001b[1;32m   1853\u001b[0m       return self._build_call_outputs(self._inference_function.call(\n\u001b[0;32m-> 1854\u001b[0;31m           ctx, args, cancellation_manager=cancellation_manager))\n\u001b[0m\u001b[1;32m   1855\u001b[0m     forward_backward = self._select_forward_and_backward_functions(\n\u001b[1;32m   1856\u001b[0m         \u001b[0margs\u001b[0m\u001b[0;34m,\u001b[0m\u001b[0;34m\u001b[0m\u001b[0;34m\u001b[0m\u001b[0m\n",
            "\u001b[0;32m/usr/local/lib/python3.7/dist-packages/tensorflow/python/eager/function.py\u001b[0m in \u001b[0;36mcall\u001b[0;34m(self, ctx, args, cancellation_manager)\u001b[0m\n\u001b[1;32m    502\u001b[0m               \u001b[0minputs\u001b[0m\u001b[0;34m=\u001b[0m\u001b[0margs\u001b[0m\u001b[0;34m,\u001b[0m\u001b[0;34m\u001b[0m\u001b[0;34m\u001b[0m\u001b[0m\n\u001b[1;32m    503\u001b[0m               \u001b[0mattrs\u001b[0m\u001b[0;34m=\u001b[0m\u001b[0mattrs\u001b[0m\u001b[0;34m,\u001b[0m\u001b[0;34m\u001b[0m\u001b[0;34m\u001b[0m\u001b[0m\n\u001b[0;32m--> 504\u001b[0;31m               ctx=ctx)\n\u001b[0m\u001b[1;32m    505\u001b[0m         \u001b[0;32melse\u001b[0m\u001b[0;34m:\u001b[0m\u001b[0;34m\u001b[0m\u001b[0;34m\u001b[0m\u001b[0m\n\u001b[1;32m    506\u001b[0m           outputs = execute.execute_with_cancellation(\n",
            "\u001b[0;32m/usr/local/lib/python3.7/dist-packages/tensorflow/python/eager/execute.py\u001b[0m in \u001b[0;36mquick_execute\u001b[0;34m(op_name, num_outputs, inputs, attrs, ctx, name)\u001b[0m\n\u001b[1;32m     53\u001b[0m     \u001b[0mctx\u001b[0m\u001b[0;34m.\u001b[0m\u001b[0mensure_initialized\u001b[0m\u001b[0;34m(\u001b[0m\u001b[0;34m)\u001b[0m\u001b[0;34m\u001b[0m\u001b[0;34m\u001b[0m\u001b[0m\n\u001b[1;32m     54\u001b[0m     tensors = pywrap_tfe.TFE_Py_Execute(ctx._handle, device_name, op_name,\n\u001b[0;32m---> 55\u001b[0;31m                                         inputs, attrs, num_outputs)\n\u001b[0m\u001b[1;32m     56\u001b[0m   \u001b[0;32mexcept\u001b[0m \u001b[0mcore\u001b[0m\u001b[0;34m.\u001b[0m\u001b[0m_NotOkStatusException\u001b[0m \u001b[0;32mas\u001b[0m \u001b[0me\u001b[0m\u001b[0;34m:\u001b[0m\u001b[0;34m\u001b[0m\u001b[0;34m\u001b[0m\u001b[0m\n\u001b[1;32m     57\u001b[0m     \u001b[0;32mif\u001b[0m \u001b[0mname\u001b[0m \u001b[0;32mis\u001b[0m \u001b[0;32mnot\u001b[0m \u001b[0;32mNone\u001b[0m\u001b[0;34m:\u001b[0m\u001b[0;34m\u001b[0m\u001b[0;34m\u001b[0m\u001b[0m\n",
            "\u001b[0;31mKeyboardInterrupt\u001b[0m: "
          ]
        }
      ]
    },
    {
      "cell_type": "code",
      "source": [
        "# Model 3\n",
        "model_3 = tf.keras.Sequential([\n",
        "    tf.keras.layers.Embedding(\n",
        "        num_tokens, embedding_dim,\n",
        "        embeddings_initializer=tf.keras.initializers.Constant(embedding_matrix),\n",
        "        trainable=False),\n",
        "    tf.keras.layers.Conv1D(filters=128, kernel_size=3,\n",
        "                      strides=1, padding=\"causal\",\n",
        "                      activation=\"relu\"),\n",
        "    tf.keras.layers.Conv1D(filters=128, kernel_size=5,\n",
        "                      strides=1, padding=\"causal\",\n",
        "                      activation=\"relu\"),\n",
        "    tf.keras.layers.Conv1D(filters=128, kernel_size=3,\n",
        "                      strides=1, padding=\"causal\",\n",
        "                      activation=\"relu\"),\n",
        "    tf.keras.layers.Dropout(0.3),\n",
        "    tf.keras.layers.Bidirectional(tf.keras.layers.LSTM(1024, return_sequences = True)),\n",
        "    tf.keras.layers.Dropout(0.3),\n",
        "    tf.keras.layers.Bidirectional(tf.keras.layers.LSTM(1024)),\n",
        "    tf.keras.layers.Dropout(0.3),\n",
        "    tf.keras.layers.Dense(1024, activation='relu'),\n",
        "    tf.keras.layers.Dropout(0.3),\n",
        "    tf.keras.layers.Dense(1, activation='sigmoid')\n",
        "])\n",
        "\n",
        "model_3.compile(loss = 'binary_crossentropy', \n",
        "              optimizer = optimizerADAM, \n",
        "              metrics = ['accuracy'])\n",
        "model_3.summary()\n",
        "\n",
        "history_3 = model_3.fit(X_train, y_train, epochs=15, validation_data=(X_val, y_val), verbose=1)"
      ],
      "metadata": {
        "id": "QWF2e1VzHukL",
        "colab": {
          "base_uri": "https://localhost:8080/"
        },
        "outputId": "332e986b-3755-46ed-d5ff-1612c6975b19"
      },
      "execution_count": null,
      "outputs": [
        {
          "output_type": "stream",
          "name": "stdout",
          "text": [
            "Model: \"sequential_2\"\n",
            "_________________________________________________________________\n",
            " Layer (type)                Output Shape              Param #   \n",
            "=================================================================\n",
            " embedding_2 (Embedding)     (None, None, 300)         6607500   \n",
            "                                                                 \n",
            " conv1d_4 (Conv1D)           (None, None, 128)         115328    \n",
            "                                                                 \n",
            " conv1d_5 (Conv1D)           (None, None, 128)         82048     \n",
            "                                                                 \n",
            " conv1d_6 (Conv1D)           (None, None, 128)         49280     \n",
            "                                                                 \n",
            " dropout_8 (Dropout)         (None, None, 128)         0         \n",
            "                                                                 \n",
            " bidirectional_4 (Bidirectio  (None, None, 2048)       9445376   \n",
            " nal)                                                            \n",
            "                                                                 \n",
            " dropout_9 (Dropout)         (None, None, 2048)        0         \n",
            "                                                                 \n",
            " bidirectional_5 (Bidirectio  (None, 2048)             25174016  \n",
            " nal)                                                            \n",
            "                                                                 \n",
            " dropout_10 (Dropout)        (None, 2048)              0         \n",
            "                                                                 \n",
            " dense_4 (Dense)             (None, 1024)              2098176   \n",
            "                                                                 \n",
            " dropout_11 (Dropout)        (None, 1024)              0         \n",
            "                                                                 \n",
            " dense_5 (Dense)             (None, 1)                 1025      \n",
            "                                                                 \n",
            "=================================================================\n",
            "Total params: 43,572,749\n",
            "Trainable params: 36,965,249\n",
            "Non-trainable params: 6,607,500\n",
            "_________________________________________________________________\n",
            "Epoch 1/15\n",
            "228/228 [==============================] - 161s 684ms/step - loss: 0.3512 - accuracy: 0.8611 - val_loss: 0.3200 - val_accuracy: 0.8725\n",
            "Epoch 2/15\n",
            "228/228 [==============================] - 154s 676ms/step - loss: 0.2635 - accuracy: 0.8993 - val_loss: 0.3146 - val_accuracy: 0.8703\n",
            "Epoch 3/15\n",
            "228/228 [==============================] - 154s 678ms/step - loss: 0.1958 - accuracy: 0.9320 - val_loss: 0.3324 - val_accuracy: 0.8731\n",
            "Epoch 4/15\n",
            "228/228 [==============================] - 154s 677ms/step - loss: 0.1236 - accuracy: 0.9582 - val_loss: 0.3411 - val_accuracy: 0.8835\n",
            "Epoch 5/15\n",
            "228/228 [==============================] - 154s 676ms/step - loss: 0.0653 - accuracy: 0.9794 - val_loss: 0.4110 - val_accuracy: 0.8714\n",
            "Epoch 6/15\n",
            "228/228 [==============================] - 154s 677ms/step - loss: 0.0418 - accuracy: 0.9867 - val_loss: 0.4837 - val_accuracy: 0.8736\n",
            "Epoch 7/15\n",
            "228/228 [==============================] - 154s 676ms/step - loss: 0.0258 - accuracy: 0.9933 - val_loss: 0.5323 - val_accuracy: 0.8736\n",
            "Epoch 8/15\n",
            "228/228 [==============================] - 154s 676ms/step - loss: 0.0165 - accuracy: 0.9955 - val_loss: 0.5484 - val_accuracy: 0.8769\n",
            "Epoch 9/15\n",
            "228/228 [==============================] - 154s 677ms/step - loss: 0.0206 - accuracy: 0.9941 - val_loss: 0.5719 - val_accuracy: 0.8687\n",
            "Epoch 10/15\n",
            "228/228 [==============================] - 154s 676ms/step - loss: 0.0178 - accuracy: 0.9955 - val_loss: 0.6385 - val_accuracy: 0.8698\n",
            "Epoch 11/15\n",
            "228/228 [==============================] - 154s 677ms/step - loss: 0.0118 - accuracy: 0.9971 - val_loss: 0.6855 - val_accuracy: 0.8819\n",
            "Epoch 12/15\n",
            "228/228 [==============================] - 154s 677ms/step - loss: 0.0102 - accuracy: 0.9974 - val_loss: 0.6323 - val_accuracy: 0.8802\n",
            "Epoch 13/15\n",
            "228/228 [==============================] - 154s 676ms/step - loss: 0.0116 - accuracy: 0.9975 - val_loss: 0.6537 - val_accuracy: 0.8720\n",
            "Epoch 14/15\n",
            "228/228 [==============================] - 154s 677ms/step - loss: 0.0146 - accuracy: 0.9962 - val_loss: 0.6229 - val_accuracy: 0.8681\n",
            "Epoch 15/15\n",
            "228/228 [==============================] - 154s 677ms/step - loss: 0.0123 - accuracy: 0.9968 - val_loss: 0.5760 - val_accuracy: 0.8731\n"
          ]
        }
      ]
    },
    {
      "cell_type": "code",
      "source": [
        "# Model 4\n",
        "model_4 = tf.keras.Sequential([\n",
        "    tf.keras.layers.Embedding(\n",
        "        num_tokens, embedding_dim,\n",
        "        embeddings_initializer=tf.keras.initializers.Constant(embedding_matrix),\n",
        "        trainable=False),\n",
        "    tf.keras.layers.Conv1D(filters=128, kernel_size=3,\n",
        "                      strides=1, padding=\"causal\",\n",
        "                      activation=\"relu\"),\n",
        "    tf.keras.layers.Conv1D(filters=128, kernel_size=5,\n",
        "                      strides=1, padding=\"causal\",\n",
        "                      activation=\"relu\"),\n",
        "    tf.keras.layers.MaxPooling1D(pool_size=2),\n",
        "    tf.keras.layers.Conv1D(filters=128, kernel_size=3,\n",
        "                      strides=1, padding=\"causal\",\n",
        "                      activation=\"relu\"),\n",
        "    tf.keras.layers.MaxPooling1D(pool_size=2),\n",
        "    tf.keras.layers.Bidirectional(tf.keras.layers.LSTM(1024, return_sequences = True)),\n",
        "    tf.keras.layers.Dropout(0.4),\n",
        "    tf.keras.layers.Dense(1024, activation='relu'),\n",
        "    tf.keras.layers.Dropout(0.4),\n",
        "    tf.keras.layers.Dense(1, activation='sigmoid')\n",
        "])\n",
        "\n",
        "model_4.compile(loss = 'binary_crossentropy', \n",
        "              optimizer = optimizerSGD, \n",
        "              metrics = ['accuracy'])\n",
        "model_4.summary()\n",
        "\n",
        "history_4 = model_4.fit(X_train, y_train, epochs=15, validation_data=(X_val, y_val), verbose=1)"
      ],
      "metadata": {
        "id": "UFrzj4cwIv-7"
      },
      "execution_count": null,
      "outputs": []
    },
    {
      "cell_type": "code",
      "source": [
        "model_1.evaluate(X_test, y_test, verbose=1)\n",
        "model_2.evaluate(X_test, y_test, verbose=1)\n",
        "model_3.evaluate(X_test, y_test, verbose=1)\n",
        "model_4.evaluate(X_test, y_test, verbose=1)"
      ],
      "metadata": {
        "id": "fDQEyILvImZB"
      },
      "execution_count": null,
      "outputs": []
    },
    {
      "cell_type": "code",
      "source": [
        "# Rangkuman history dari proses fit accuracy setiap Model dengan dataset val per-epoch\n",
        "plt.plot(history_1.history['val_accuracy'])\n",
        "plt.plot(history_1.history['val_accuracy'])\n",
        "plt.plot(history_1.history['val_accuracy'])\n",
        "plt.plot(history_1.history['val_accuracy'])\n",
        "plt.title('Model Evaluasi Accuracy per-epoch')\n",
        "plt.ylabel('val_accuracy')\n",
        "plt.xlabel('epoch')\n",
        "plt.legend(['Model 1', 'Model 2', 'Model 3', 'Model 4'], loc='upper right')\n",
        "plt.show()"
      ],
      "metadata": {
        "id": "eHJtcp4MJdrC"
      },
      "execution_count": null,
      "outputs": []
    },
    {
      "cell_type": "code",
      "source": [
        "# # Visualize Loss & Accuracy\n",
        "# %matplotlib inline\n",
        "# import matplotlib.pyplot as plt\n",
        "# acc = history.history['accuracy']\n",
        "# val_acc = history.history['val_accuracy']\n",
        "# loss = history.history['loss']\n",
        "# val_loss = history.history['val_loss']\n",
        "\n",
        "# epochs = range(len(acc))\n",
        "\n",
        "# plt.plot(epochs, acc, 'r', label='Training accuracy')\n",
        "# plt.plot(epochs, val_acc, 'b', label='Validation accuracy')\n",
        "# plt.title('Training and validation accuracy')\n",
        "# plt.legend()\n",
        "# plt.figure()\n",
        "\n",
        "# plt.plot(epochs, loss, 'r', label='Training Loss')\n",
        "# plt.plot(epochs, val_loss, 'b', label='Validation Loss')\n",
        "# plt.title('Training and validation loss')\n",
        "# plt.legend()\n",
        "\n",
        "# plt.show()"
      ],
      "metadata": {
        "colab": {
          "base_uri": "https://localhost:8080/",
          "height": 545
        },
        "id": "_FeANBSkjXtu",
        "outputId": "c42ad999-61a1-46bf-d88a-f4485de6d418"
      },
      "execution_count": null,
      "outputs": [
        {
          "output_type": "display_data",
          "data": {
            "text/plain": [
              "<Figure size 432x288 with 1 Axes>"
            ],
            "image/png": "[encoded data removed]"
          },
          "metadata": {
            "needs_background": "light"
          }
        },
        {
          "output_type": "display_data",
          "data": {
            "text/plain": [
              "<Figure size 432x288 with 1 Axes>"
            ],
            "image/png": "[encoded data removed]"
          },
          "metadata": {
            "needs_background": "light"
          }
        }
      ]
    },
    {
      "cell_type": "code",
      "source": [
        "# Classify custom sample\n",
        "\n",
        "sentences = [\n",
        "            #sample teks\n",
        "             \"Married woman sets husband ablaze for allegedly cheating on her in Osogbo,Osun state Nigeria\", #https://twitter.com/Celebrity_blogg/status/1549794206360764416\n",
        "             \"Ken Green won five times on the PGA Tour. In 2009, he lost his right leg in an RV accident.\", #https://twitter.com/GolfweekNichols/status/1549046955720216576\n",
        "             \"I'd like to report the entire audience who attended my #Armageddon warm up tonight for hate crimes. They laughed, and sometimes even clapped, at terrible things, in the name of 'comedy'. Disgusting.\", #https://twitter.com/rickygervais/status/1546599859603603462\n",
        "             \"Sometimes we have to get lost to find ourselves in a better place and get out of the wrecked place we unknowingly got trapped in\", #https://twitter.com/dozyneedcoffee/status/1550488706296995840\n",
        "             \"This man on tiktok rap battle every living being in his house\" #https://twitter.com/tinaqueen_15/status/1550267812479901701\n",
        "            ]\n",
        "\n",
        "df_test = pd.DataFrame (sentences, columns = ['sentences'])\n",
        "df_test = pd.read_csv(\"/content/train.csv\")\n",
        "\n",
        "# clean text\n",
        "df_test['clean_text'] = df_test['text'].apply(lambda x: remove_URL(x))\n",
        "df_test['clean_text'] = df_test['clean_text'].apply(lambda x: remove_emoji(x))\n",
        "df_test['clean_text'] = df_test['clean_text'].apply(lambda x: remove_html(x))\n",
        "df_test['clean_text'] = df_test['clean_text'].apply(lambda x: remove_punct(x))\n",
        "\n",
        "# lower text\n",
        "df_test['lowered'] = df_test['clean_text'].apply(lambda x: x.lower())\n",
        "\n",
        "# remove stopwords\n",
        "df_test['no_stopwords'] = df_test['lowered'].apply(word_tokenize)\n",
        "df_test['no_stopwords'] = df_test['no_stopwords'].apply(\n",
        "    lambda x: [word for word in x \n",
        "               if word not in set(nltk.corpus.stopwords.words('english'))])\n",
        "df_test['no_stopwords'] = [' '.join(map(str, l)) for l in df_test['no_stopwords']]\n",
        "\n",
        "# lemmatize\n",
        "df_test['lemmatized'] = df_test['no_stopwords'].apply(lambda x: lemma.lemmatize(x))"
      ],
      "metadata": {
        "id": "fvmx08wv-OQM"
      },
      "execution_count": null,
      "outputs": []
    },
    {
      "cell_type": "code",
      "source": [
        "Z = df_test['lemmatized']\n",
        "\n",
        "sequences_test2 = tokenizer.texts_to_sequences(Z)\n",
        "X_test2 = pad_sequences(sequences_test2, maxlen=256, truncating='pre')"
      ],
      "metadata": {
        "id": "BAhPZVvI-Q25"
      },
      "execution_count": null,
      "outputs": []
    },
    {
      "cell_type": "code",
      "source": [
        "df_test['target'] = le.fit_transform(df_test['target'])\n",
        "model.evaluate(X_test2, df_test['target'], verbose = 1)"
      ],
      "metadata": {
        "colab": {
          "base_uri": "https://localhost:8080/"
        },
        "id": "z3E8vHGCBGll",
        "outputId": "7099e991-21dc-4408-e63a-a47d3d83a600"
      },
      "execution_count": null,
      "outputs": [
        {
          "output_type": "stream",
          "name": "stdout",
          "text": [
            "238/238 [==============================] - 34s 136ms/step - loss: 2.0803 - accuracy: 0.6631\n"
          ]
        },
        {
          "output_type": "execute_result",
          "data": {
            "text/plain": [
              "[2.0803005695343018, 0.6630763411521912]"
            ]
          },
          "metadata": {},
          "execution_count": 31
        }
      ]
    },
    {
      "cell_type": "code",
      "source": [
        ""
      ],
      "metadata": {
        "colab": {
          "base_uri": "https://localhost:8080/"
        },
        "id": "xaqU5RFF-XuJ",
        "outputId": "24acd59c-fd9d-4055-d1e8-ea46b0a311ef"
      },
      "execution_count": null,
      "outputs": [
        {
          "output_type": "execute_result",
          "data": {
            "text/plain": [
              "0       1\n",
              "1       1\n",
              "2       1\n",
              "3       1\n",
              "4       1\n",
              "       ..\n",
              "7608    1\n",
              "7609    1\n",
              "7610    1\n",
              "7611    1\n",
              "7612    1\n",
              "Name: target, Length: 7613, dtype: int64"
            ]
          },
          "metadata": {},
          "execution_count": 28
        }
      ]
    },
    {
      "cell_type": "markdown",
      "source": [
        "## Visualisation of the results"
      ],
      "metadata": {
        "id": "gr1b8WfuOQtv"
      }
    },
    {
      "cell_type": "code",
      "source": [
        "# def plot_training_hist(history):\n",
        "#     '''Function to plot history for accuracy and loss'''\n",
        "    \n",
        "#     fig, ax = plt.subplots(1,2, figsize=(10,4))\n",
        "#     # first plot\n",
        "#     ax[0].plot(history.history['accuracy'])\n",
        "#     ax[0].plot(history.history['val_accuracy'])\n",
        "#     ax[0].set_title('Model Accuracy')\n",
        "#     ax[0].set_xlabel('epoch')\n",
        "#     ax[0].set_ylabel('accuracy')\n",
        "#     ax[0].legend(['train', 'validation'], loc='best')\n",
        "    \n",
        "#     # second plot\n",
        "#     ax[1].plot(history.history['loss'])\n",
        "#     ax[1].plot(history.history['val_loss'])\n",
        "#     ax[1].set_title('Model Loss')\n",
        "#     ax[1].set_xlabel('epoch')\n",
        "#     ax[1].set_ylabel('loss')\n",
        "#     ax[1].legend(['train', 'validation'], loc='best')\n",
        "    \n",
        "# plot_training_hist(history)"
      ],
      "metadata": {
        "id": "aRCXrB9iOTxn"
      },
      "execution_count": null,
      "outputs": []
    },
    {
      "cell_type": "code",
      "source": [
        "# from sklearn.metrics import confusion_matrix\n",
        "\n",
        "# def plot_confusion_matrix(model, X_test, y_test):\n",
        "#     '''Function to plot confusion matrix for the passed model and the data'''\n",
        "    \n",
        "#     sentiment_classes =   ['Negative','Neutral', 'Positive']\n",
        "#     # use model to do the prediction\n",
        "#     y_pred = model.predict(X_test)\n",
        "#     # compute confusion matrix\n",
        "#     cm = confusion_matrix(np.argmax(y_pred, axis=1),np.argmax(np.array(y_test),axis=1))\n",
        "\n",
        "#     print(pd.Series(np.argmax(np.array(y_test),axis=1)).value_counts())\n",
        "#     print(pd.Series(np.argmax(y_pred, axis=1)).value_counts())\n",
        "    \n",
        "#     # plot confusion matrix\n",
        "#     plt.figure(figsize=(8,6))\n",
        "#     sns.heatmap(cm, cmap=plt.cm.Blues, annot=True, fmt='d', \n",
        "#                 xticklabels=sentiment_classes,\n",
        "#                 yticklabels=sentiment_classes)\n",
        "#     plt.title('Confusion matrix', fontsize=16)\n",
        "#     plt.xlabel('Actual label', fontsize=12)\n",
        "#     plt.ylabel('Predicted label', fontsize=12)\n",
        "    \n",
        "# plot_confusion_matrix(model, X_test, y_test)"
      ],
      "metadata": {
        "id": "fac5HVpXOW4u"
      },
      "execution_count": null,
      "outputs": []
    },
    {
      "cell_type": "markdown",
      "source": [
        "# Traditional Machine Learning Model"
      ],
      "metadata": {
        "id": "_3c4Kvy8Mru6"
      }
    },
    {
      "cell_type": "code",
      "source": [
        "from sklearn.model_selection import GridSearchCV, cross_validate, KFold\n",
        "from sklearn.metrics import make_scorer, accuracy_score, precision_score, recall_score, f1_score, confusion_matrix, classification_report\n",
        "\n",
        "from sklearn.svm import SVC\n",
        "from sklearn.linear_model import LogisticRegression\n",
        "from sklearn.ensemble import RandomForestClassifier\n",
        "from sklearn.naive_bayes import MultinomialNB"
      ],
      "metadata": {
        "id": "Rk3ODRnVF89b"
      },
      "execution_count": null,
      "outputs": []
    },
    {
      "cell_type": "code",
      "source": [
        "clf = LogisticRegression(C=1,random_state=42)\n",
        "clf.fit(X_train, y_train)\n",
        "prediction = clf.predict(X_val)\n",
        "print(confusion_matrix(y_val, prediction))\n",
        "print(accuracy_score(y_val, prediction))\n",
        "print(classification_report(y_val, prediction))\n",
        "print(f1_score(y_val, prediction))"
      ],
      "metadata": {
        "id": "AgoijF_KNUG7"
      },
      "execution_count": null,
      "outputs": []
    },
    {
      "cell_type": "code",
      "source": [
        "svm=SVC()\n",
        "svm.fit(X_train,y_train)\n",
        "prediction = svm.predict(X_val)\n",
        "print(confusion_matrix(y_val, prediction))\n",
        "print(accuracy_score(y_val, prediction))\n",
        "print(classification_report(y_val, prediction))\n",
        "print(f1_score(y_val, prediction))"
      ],
      "metadata": {
        "id": "Ig9lpSRONRA2"
      },
      "execution_count": null,
      "outputs": []
    },
    {
      "cell_type": "code",
      "source": [
        "rfc = RandomForestClassifier(n_estimators=100, random_state=42)\n",
        "rfc.fit(X_train, y_train)\n",
        "prediction = rfc.predict(X_val)\n",
        "print(confusion_matrix(y_val, prediction))\n",
        "print(accuracy_score(y_val, prediction))\n",
        "print(classification_report(y_val, prediction))\n",
        "print(f1_score(y_val, prediction))"
      ],
      "metadata": {
        "id": "nmdX3Z70NbCq"
      },
      "execution_count": null,
      "outputs": []
    },
    {
      "cell_type": "code",
      "source": [
        "nb = MultinomialNB()\n",
        "nb.fit(X_train, y_train)\n",
        "prediction = nb.predict(X_val)\n",
        "print(confusion_matrix(y_val, prediction))\n",
        "print(accuracy_score(y_val, prediction))\n",
        "print(classification_report(y_val, prediction))\n",
        "print(f1_score(y_val, prediction))"
      ],
      "metadata": {
        "id": "PHQnPf1iNkzM"
      },
      "execution_count": null,
      "outputs": []
    }
  ]
}